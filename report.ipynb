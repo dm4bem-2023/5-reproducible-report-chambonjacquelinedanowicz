{
 "cells": [
  {
   "attachments": {},
   "cell_type": "markdown",
   "metadata": {},
   "source": [
    "# Title : Cubic Building with 2 rooms separated with a wall and a door\n",
    "\n",
    "names: Céleste CHAMBON, Charlotte JACQUELINE , Ornella DANOWICZ\n",
    "\n",
    "teacher: Christian GHIAUS\n",
    "\n",
    "start of the project: 24/04/2023\n",
    "\n",
    "last edit: 30/05/2023"
   ]
  },
  {
   "attachments": {},
   "cell_type": "markdown",
   "metadata": {},
   "source": [
    "## Introduction"
   ]
  },
  {
   "attachments": {},
   "cell_type": "markdown",
   "metadata": {},
   "source": [
    "The aim of this project is to simulate an example of thermal dynamic simulation of a building. We consider a 2 rooms cubic building with 6 identical two-layer walls, a window, air infiltration (Ventilation), and an indoor temperature control system (HVAC)."
   ]
  },
  {
   "cell_type": "code",
   "execution_count": 1,
   "metadata": {},
   "outputs": [],
   "source": [
    "import numpy as np\n",
    "import pandas as pd\n",
    "import matplotlib.pyplot as plt\n",
    "import dm4bem"
   ]
  },
  {
   "attachments": {},
   "cell_type": "markdown",
   "metadata": {},
   "source": [
    "## I. Model"
   ]
  },
  {
   "attachments": {},
   "cell_type": "markdown",
   "metadata": {},
   "source": [
    "First, we are going to model our building (2 rooms separated by a wall with a door). After, we have to formulate the hypothesis for boundary conditions, choose the types of windows, doors, and walls.\n",
    "\n",
    "The second step is to draw the thermal circuit (temperature nodes, flow-rate paths, thermal conductances for conduction, convection, long-wave radiation, advection, and P-controllers, sources of temperature and flow-rate).\n",
    "\n",
    "Once this is done, we can compute all the values : thermal conductances and capacities, the incidence matrix A, the conductance matrix B, and the capacity matrix C of the system of Algebraic Differential Equations (DAE).\n",
    "\t\n",
    "Finally, we write in Python the vectors of pointers to the temperature sources b, flow-rate sources f and outputs y."
   ]
  },
  {
   "attachments": {},
   "cell_type": "markdown",
   "metadata": {},
   "source": [
    "### 1. Description of the building"
   ]
  },
  {
   "attachments": {},
   "cell_type": "markdown",
   "metadata": {},
   "source": [
    "![House](./figures/Figure1.PNG)\n",
    "> Figure 1. doble ventilated rooms (6 two-layer walls and 1 glass window) equiped with an HVAC system which acts as a proportional controller.\n",
    "\n",
    "The dimensions and surface areas of the building are:"
   ]
  },
  {
   "cell_type": "code",
   "execution_count": 2,
   "metadata": {},
   "outputs": [],
   "source": [
    "#surface\n",
    "l = 5                # m length of the cubic room\n",
    "Sgw = Sd = l*2       # m² surface of the glass and the door\n",
    "SLw = l**2 - Sgw     # m² surface of the Right Wall (insulated)\n",
    "SMw = l**2 - Sd      # m² surface of the Middle Wall\n",
    "SRw = l**2           # m² surface of the left Wall (insulated)\n",
    "Sother = 4 *l**2     # m² surface of other wall which are insulated\n",
    "Swall_tot = Sother +SRw +SMw +SLw\n",
    "Sinsul_tot = Sother +SRw  +SLw\n",
    "Swall_out =5*(l**2)\n",
    "#thichness:\n",
    "thi_g = thi_ins = 5e-2 #cm\n",
    "thi_wall = thi_d = 10e-2 #cm"
   ]
  },
  {
   "attachments": {},
   "cell_type": "markdown",
   "metadata": {},
   "source": [
    "Hypothesis and building description : \n",
    "\n",
    "We considered a 2 room building. The two rooms are separated by a wall including a door. The 6 walls of the building are made of concrete with a thickness of 10 cm. On the left wall there is a glass window with a thickness of 5cm and a surface of 5 x 2 = 10 m2. On the walls, we considered a layer of insulation of 5 cm. We put a HVAC system acting as a proportional controller in the second room and a ventilation system. We considered that the ceiling and the 2 lateral walls are isolated. \n",
    "\n",
    "On the model there are temperature sources : T0, the outdoor atmospheric air, T1 the temperature of the indoor air of room 1 and T2 the temperature of the indoor air of room 2. There is also a HVAC system to have a setpoint temperature of Tsp = 10°C. Additionally, there is a ventilation system. The sun also is a source of temperature that is applied on the window and the left wall. "
   ]
  },
  {
   "attachments": {},
   "cell_type": "markdown",
   "metadata": {},
   "source": [
    "### 2. Thermo-physical properties\n",
    "The thermophysical properties of the air (in SI units) are:"
   ]
  },
  {
   "cell_type": "code",
   "execution_count": 3,
   "metadata": {},
   "outputs": [
    {
     "data": {
      "text/html": [
       "<div>\n",
       "<style scoped>\n",
       "    .dataframe tbody tr th:only-of-type {\n",
       "        vertical-align: middle;\n",
       "    }\n",
       "\n",
       "    .dataframe tbody tr th {\n",
       "        vertical-align: top;\n",
       "    }\n",
       "\n",
       "    .dataframe thead th {\n",
       "        text-align: right;\n",
       "    }\n",
       "</style>\n",
       "<table border=\"1\" class=\"dataframe\">\n",
       "  <thead>\n",
       "    <tr style=\"text-align: right;\">\n",
       "      <th></th>\n",
       "      <th>Density</th>\n",
       "      <th>Specific heat</th>\n",
       "    </tr>\n",
       "  </thead>\n",
       "  <tbody>\n",
       "    <tr>\n",
       "      <th>Air</th>\n",
       "      <td>1.2</td>\n",
       "      <td>1000</td>\n",
       "    </tr>\n",
       "  </tbody>\n",
       "</table>\n",
       "</div>"
      ],
      "text/plain": [
       "     Density  Specific heat\n",
       "Air      1.2           1000"
      ]
     },
     "execution_count": 3,
     "metadata": {},
     "output_type": "execute_result"
    }
   ],
   "source": [
    "air = {'Density': 1.2,                      # kg/m³\n",
    "       'Specific heat': 1000}               # J/(kg·K)\n",
    "\n",
    "pd.DataFrame(air, index=['Air'])"
   ]
  },
  {
   "attachments": {},
   "cell_type": "markdown",
   "metadata": {},
   "source": [
    "The [thermophysical properties](https://energieplus-lesite.be/donnees/enveloppe44/enveloppe2/conductivite-thermique-des-materiaux/) ([thermal conductivities](https://en.m.wikipedia.org/wiki/List_of_thermal_conductivities), [densities](https://en.wikipedia.org/wiki/Density) and [specific heat capacities](https://en.m.wikipedia.org/wiki/Table_of_specific_heat_capacities)) and the geometry (widths and surface areas) of the three materials (i.e., concrete, insulation, glass) in SI units are:"
   ]
  },
  {
   "cell_type": "code",
   "execution_count": 4,
   "metadata": {},
   "outputs": [],
   "source": [
    "concrete = {'Conductivity': 1.400,\n",
    "            'Density': 2300.0,\n",
    "            'Specific heat': 880,\n",
    "            'Width': thi_wall,\n",
    "            'Surface': Swall_tot }\n",
    "\n",
    "insulation = {'Conductivity': 0.027,\n",
    "              'Density': 55.0,\n",
    "              'Specific heat': 1210,\n",
    "              'Width': thi_ins,\n",
    "              'Surface': Sinsul_tot}\n",
    "\n",
    "glass = {'Conductivity': 1.4,\n",
    "         'Density': 2500,\n",
    "         'Specific heat': 1210,\n",
    "         'Width': thi_g,\n",
    "         'Surface': Sgw}\n",
    "\n",
    "wood = {'Conductivity': 0.2,\n",
    "         'Density': 600,\n",
    "         'Specific heat': 2500,\n",
    "         'Width': thi_d,\n",
    "         'Surface': Sd}\n"
   ]
  },
  {
   "attachments": {},
   "cell_type": "markdown",
   "metadata": {},
   "source": [
    "### 3. Radiative properties\n"
   ]
  },
  {
   "cell_type": "code",
   "execution_count": 5,
   "metadata": {},
   "outputs": [],
   "source": [
    "# radiative properties\n",
    "ε_wLW = 0.85    # long wave emmisivity: wall surface (concrete)\n",
    "ε_gLW = 0.90    # long wave emmisivity: glass pyrex\n",
    "α_wSW = 0.25    # short wave absortivity: white smooth surface\n",
    "α_gSW = 0.38    # short wave absortivity: reflective blue glass\n",
    "τ_gSW = 0.30    # short wave transmitance: reflective blue glass"
   ]
  },
  {
   "attachments": {},
   "cell_type": "markdown",
   "metadata": {},
   "source": [
    "The [Stefan-Boltzmann constant](https://en.m.wikipedia.org/wiki/Stefan–Boltzmann_constant) is:"
   ]
  },
  {
   "cell_type": "code",
   "execution_count": 6,
   "metadata": {},
   "outputs": [
    {
     "name": "stdout",
     "output_type": "stream",
     "text": [
      "σ = 5.67e-08 W/(m²⋅K⁴)\n"
     ]
    }
   ],
   "source": [
    "σ = 5.67e-8     # W/(m²⋅K⁴) Stefan-Bolzmann constant\n",
    "print(f'σ = {σ} W/(m²⋅K⁴)')"
   ]
  },
  {
   "attachments": {},
   "cell_type": "markdown",
   "metadata": {},
   "source": [
    "### 4. Convection coefficients\n",
    "\n",
    "Conventional values for the convection coeficients for indoor and outdoor convection in W/(m²⋅K) are:"
   ]
  },
  {
   "cell_type": "code",
   "execution_count": 7,
   "metadata": {},
   "outputs": [
    {
     "data": {
      "text/html": [
       "<div>\n",
       "<style scoped>\n",
       "    .dataframe tbody tr th:only-of-type {\n",
       "        vertical-align: middle;\n",
       "    }\n",
       "\n",
       "    .dataframe tbody tr th {\n",
       "        vertical-align: top;\n",
       "    }\n",
       "\n",
       "    .dataframe thead th {\n",
       "        text-align: right;\n",
       "    }\n",
       "</style>\n",
       "<table border=\"1\" class=\"dataframe\">\n",
       "  <thead>\n",
       "    <tr style=\"text-align: right;\">\n",
       "      <th></th>\n",
       "      <th>in</th>\n",
       "      <th>out</th>\n",
       "    </tr>\n",
       "  </thead>\n",
       "  <tbody>\n",
       "    <tr>\n",
       "      <th>h</th>\n",
       "      <td>8.0</td>\n",
       "      <td>25</td>\n",
       "    </tr>\n",
       "  </tbody>\n",
       "</table>\n",
       "</div>"
      ],
      "text/plain": [
       "    in  out\n",
       "h  8.0   25"
      ]
     },
     "execution_count": 7,
     "metadata": {},
     "output_type": "execute_result"
    }
   ],
   "source": [
    "h = pd.DataFrame([{'in': 8., 'out': 25}], index=['h'])  # W/(m²⋅K)\n",
    "h"
   ]
  },
  {
   "attachments": {},
   "cell_type": "markdown",
   "metadata": {},
   "source": [
    "## II. Thermal circuit"
   ]
  },
  {
   "attachments": {},
   "cell_type": "markdown",
   "metadata": {},
   "source": [
    "\n",
    "![thermal_circuit](./figures/FigureA.PNG)\n",
    "> Figure 2. Thermal circuit for the 2-rooms cubic bulding shown in Figure 1.\n",
    "\n",
    "Figure 2 shows the models of:\n",
    "\n",
    "- Concrete & insulation walls: Left wall in red and noted LW, the middle wall and the door between the 2 rooms in gray noted respectively MD and D and the right wall in blue noted RW\n",
    "\n",
    "- Glass window in green noted GW\n",
    "\n",
    "- Ventilation in pink noted Vent\n",
    "\n",
    "HVAC system in black noted HVAC\n",
    "\n",
    "\n",
    "The ceiling is considered isolated. We neglected the capacities of the middle wall, the door and the window. \n",
    "\n",
    "The sources are:\n",
    "\n",
    "- T0, the outdoor temperature, °C;\n",
    "\n",
    "- Tisp  the setpoint temperature for the indoor air, °C;\n",
    "\n",
    "- ΦSUN, the outdoor radiative heat flow rate, W;\n",
    "\n",
    "- Φi, the indoor radiative heat flow rate, W;\n",
    "\n",
    "- Φa, the absorbed radiative heat flow rate, W;\n",
    "\n",
    "\n",
    "Left wall : \n",
    "\n",
    "- R0 and R4 are respectively the exterior and indoor convection resistances\n",
    "\n",
    "- R1, C1 and R2a characterized the isolation layer (conduction resistances and capacity)\n",
    "\n",
    "- R2b, C2 and R3 characterized the concrete layer (conduction resistances and capacity)\n",
    "\n",
    "\n",
    "Glass window : \n",
    "\n",
    "- R6a and R8 are respectively the exterior and indoor convection resistances\n",
    "\n",
    "- R6b, C6 and R7 characterized the glass layer (conduction resistances and capacity)\n",
    "\n",
    "- R5a, R5b, R5c represents the radiation resistances on the different surfaces\n",
    "\n",
    "\n",
    "Middle wall and door : \n",
    "\n",
    "- R9a and R9b are respectively the middle wall and door convection + conduction resistances\n",
    "\n",
    "\n",
    "Right wall : \n",
    "\n",
    "- R10a and R12b are respectively the indoor and exterior convection resistances\n",
    "\n",
    "- R11b, C9 and R12a characterized the isolation layer (conduction resistances and capacity)\n",
    "\n",
    "- R10b, C8 and R11a characterized the concrete layer (conduction resistances and capacity)\n",
    "\n",
    "\n",
    "HVAC : \n",
    "\n",
    "- RHVAC : resistance of the HVAC system\n",
    "\n",
    "\n",
    "Ventilation : \n",
    "\n",
    "- RVENT : resistance of the ventilation system\n",
    "\n",
    "In our modele, we neglected some capacities: \n",
    "\n",
    "- Capacity of the window in order to have a short compilation time \n",
    "\n",
    "- Capacity of the middle wall because we considered it as a thin wall\n",
    "\n",
    "\n",
    "\n"
   ]
  },
  {
   "attachments": {},
   "cell_type": "markdown",
   "metadata": {},
   "source": [
    "### 1. Thermal conductances"
   ]
  },
  {
   "attachments": {},
   "cell_type": "markdown",
   "metadata": {},
   "source": [
    "#### a. Conduction"
   ]
  },
  {
   "cell_type": "code",
   "execution_count": 8,
   "metadata": {},
   "outputs": [],
   "source": [
    "# conduction\n",
    "G_1 = G_2a = insulation['Conductivity'] / (insulation['Width']/2) * SLw #insulation left wall\n",
    "G_2b = G_3 = concrete['Conductivity'] / (concrete['Width']/2) * SLw #Left wall\n",
    "G_6b = G_7 = glass['Conductivity'] / (glass['Width']/2) * Sgw #glass window in the left wall\n",
    "G_10b = G_11a = concrete['Conductivity'] / (concrete['Width']/2) * SRw #Right wall\n",
    "G_11b = G_12a = insulation['Conductivity'] / (insulation['Width']/2) * SRw #insulation right wall\n",
    "G_9b = concrete['Conductivity'] / concrete['Width'] * SMw #Middle wall\n",
    "G_9d = wood['Conductivity'] / wood['Width'] * Sd #door "
   ]
  },
  {
   "attachments": {},
   "cell_type": "markdown",
   "metadata": {},
   "source": [
    "#### b. Convection"
   ]
  },
  {
   "cell_type": "code",
   "execution_count": 9,
   "metadata": {},
   "outputs": [
    {
     "name": "stderr",
     "output_type": "stream",
     "text": [
      "/var/folders/ms/nwdfyyzn5px9mxrqrc9wqtqr0000gn/T/ipykernel_829/863407461.py:3: FutureWarning: Calling float on a single element Series is deprecated and will raise a TypeError in the future. Use float(ser.iloc[0]) instead\n",
      "  G_0 = float(h['out'] * SLw)    #left wall\n",
      "/var/folders/ms/nwdfyyzn5px9mxrqrc9wqtqr0000gn/T/ipykernel_829/863407461.py:4: FutureWarning: Calling float on a single element Series is deprecated and will raise a TypeError in the future. Use float(ser.iloc[0]) instead\n",
      "  G_4 = float(h['in'] * SLw)     #left wall\n",
      "/var/folders/ms/nwdfyyzn5px9mxrqrc9wqtqr0000gn/T/ipykernel_829/863407461.py:5: FutureWarning: Calling float on a single element Series is deprecated and will raise a TypeError in the future. Use float(ser.iloc[0]) instead\n",
      "  G_6a = float( h['out'] * Sgw)  # glass window\n",
      "/var/folders/ms/nwdfyyzn5px9mxrqrc9wqtqr0000gn/T/ipykernel_829/863407461.py:6: FutureWarning: Calling float on a single element Series is deprecated and will raise a TypeError in the future. Use float(ser.iloc[0]) instead\n",
      "  G_8 = float(h['in'] * Sgw)     # glass window\n",
      "/var/folders/ms/nwdfyyzn5px9mxrqrc9wqtqr0000gn/T/ipykernel_829/863407461.py:7: FutureWarning: Calling float on a single element Series is deprecated and will raise a TypeError in the future. Use float(ser.iloc[0]) instead\n",
      "  G_9a = float((h['in']+ h['in'])* SMw) #middle wall\n",
      "/var/folders/ms/nwdfyyzn5px9mxrqrc9wqtqr0000gn/T/ipykernel_829/863407461.py:8: FutureWarning: Calling float on a single element Series is deprecated and will raise a TypeError in the future. Use float(ser.iloc[0]) instead\n",
      "  G_9c = float((h['in']+ h['in']) * Sd) #door\n",
      "/var/folders/ms/nwdfyyzn5px9mxrqrc9wqtqr0000gn/T/ipykernel_829/863407461.py:9: FutureWarning: Calling float on a single element Series is deprecated and will raise a TypeError in the future. Use float(ser.iloc[0]) instead\n",
      "  G_10a = float(h['in'] * SRw) #right wall\n",
      "/var/folders/ms/nwdfyyzn5px9mxrqrc9wqtqr0000gn/T/ipykernel_829/863407461.py:10: FutureWarning: Calling float on a single element Series is deprecated and will raise a TypeError in the future. Use float(ser.iloc[0]) instead\n",
      "  G_12b = float(h['out']*SRw )  #right wall\n"
     ]
    }
   ],
   "source": [
    "# convection\n",
    "\n",
    "G_0 = float(h['out'] * SLw)    #left wall\n",
    "G_4 = float(h['in'] * SLw)     #left wall\n",
    "G_6a = float( h['out'] * Sgw)  # glass window\n",
    "G_8 = float(h['in'] * Sgw)     # glass window\n",
    "G_9a = float((h['in']+ h['in'])* SMw) #middle wall\n",
    "G_9c = float((h['in']+ h['in']) * Sd) #door\n",
    "G_10a = float(h['in'] * SRw) #right wall\n",
    "G_12b = float(h['out']*SRw )  #right wall\n"
   ]
  },
  {
   "attachments": {},
   "cell_type": "markdown",
   "metadata": {},
   "source": [
    "#### c. Long wave radiation"
   ]
  },
  {
   "attachments": {},
   "cell_type": "markdown",
   "metadata": {},
   "source": [
    "##### View factors inside the building"
   ]
  },
  {
   "cell_type": "code",
   "execution_count": 10,
   "metadata": {},
   "outputs": [],
   "source": [
    "# view factor wall-glass\n",
    "Sroom1 = (SLw + 4*2.5*5 + SMw +Sd)\n",
    "Fgw = Sgw / Sroom1 # 4*2,5*5 -> les autres murs \n"
   ]
  },
  {
   "attachments": {},
   "cell_type": "markdown",
   "metadata": {},
   "source": [
    "##### Thermal network for long wave radiation"
   ]
  },
  {
   "cell_type": "code",
   "execution_count": 11,
   "metadata": {},
   "outputs": [],
   "source": [
    "# long wave radiation\n",
    "Tm = 20 + 273   # K, mean temp for radiative exchange\n",
    "\n",
    "GLW1 = 4 * σ * Tm**3 * ε_wLW / (1 - ε_wLW) * Sroom1\n",
    "GLW12 = 4 * σ * Tm**3 * Fgw * Sroom1\n",
    "GLW2 = 4 * σ * Tm**3 * ε_gLW / (1 - ε_gLW) * Sgw"
   ]
  },
  {
   "attachments": {},
   "cell_type": "markdown",
   "metadata": {},
   "source": [
    "The equivalent conductance, in W/K, for the radiative long-wave heat exchange between the wall and the glass window is:\n",
    "$$G = \\frac{1}{1/G_1 + 1/G_{1,2} + 1/G_2}$$"
   ]
  },
  {
   "cell_type": "code",
   "execution_count": 12,
   "metadata": {},
   "outputs": [],
   "source": [
    "G_5 = 1 / (1 / GLW1 + 1 / GLW12 + 1 / GLW2) "
   ]
  },
  {
   "attachments": {},
   "cell_type": "markdown",
   "metadata": {},
   "source": [
    "#### d. Advection"
   ]
  },
  {
   "cell_type": "code",
   "execution_count": 13,
   "metadata": {},
   "outputs": [],
   "source": [
    "# ventilation flow rate\n",
    "Va = l**3/2                 # m³, volume of air\n",
    "ACH = 1                     # air changes per hour\n",
    "Va_dot = ACH / 3600 * Va    # m³/s, air infiltration"
   ]
  },
  {
   "cell_type": "code",
   "execution_count": 14,
   "metadata": {},
   "outputs": [],
   "source": [
    "# ventilation & advection\n",
    "G_14 = air['Density'] * air['Specific heat'] * Va_dot"
   ]
  },
  {
   "attachments": {},
   "cell_type": "markdown",
   "metadata": {},
   "source": [
    "#### e. Proportional controller"
   ]
  },
  {
   "cell_type": "code",
   "execution_count": 15,
   "metadata": {},
   "outputs": [],
   "source": [
    "# P-controler gain\n",
    "#Kp = 1e4            # almost perfect controller Kp -> ∞\n",
    "#Kp = 1e-3           # no controller Kp -> 0\n",
    "Kp = 0"
   ]
  },
  {
   "cell_type": "markdown",
   "metadata": {},
   "source": [
    "#### f. Conductances in series and/or parallel"
   ]
  },
  {
   "attachments": {},
   "cell_type": "markdown",
   "metadata": {},
   "source": [
    "![thermal_circuit](./figures/FigureB.PNG)\n",
    "> Figure 3. simplified thermal circuit \n",
    "\n",
    "Figure 3 shows the model of the system with the computation of equivalent resistances.\n",
    "\n",
    "\n",
    "We assembled the resistances in series that are not separated by a node to simplify the scheme with less resistances. \n",
    "\n",
    "\n",
    "Formula for n resistance in series:\n",
    "\n",
    "$$ G_{s} = \\frac{1}{1/G_{1} + 1/G_{2} +...+ 1/G_{n}} \n",
    "$$\n",
    "formula for n resistances in parallel : \n",
    "$$ G_{p} = G_{1} + G_{2} + ... + G_{n}\n",
    "$$"
   ]
  },
  {
   "cell_type": "code",
   "execution_count": 16,
   "metadata": {},
   "outputs": [],
   "source": [
    "# glass: convection outdoor & conduction\n",
    "G_2 = 1/ ((1/G_2a)+(1/G_2b))\n",
    "G_6 = 1/ ((1/G_6a)+(1/G_6b))\n",
    "G_9 = 1/ ((1/G_9a)+(1/G_9b)) + (1/ ((1/G_9c)+(1/G_9d)))\n",
    "G_10 = 1/ ((1/G_10a)+(1/G_10b))\n",
    "G_11 = 1/ ((1/G_11a)+(1/G_11b))\n",
    "G_12 = 1/ ((1/G_12a)+(1/G_12b))"
   ]
  },
  {
   "attachments": {},
   "cell_type": "markdown",
   "metadata": {},
   "source": [
    "### 2. Thermal capacities"
   ]
  },
  {
   "attachments": {},
   "cell_type": "markdown",
   "metadata": {},
   "source": [
    "#### a. Walls"
   ]
  },
  {
   "cell_type": "code",
   "execution_count": 19,
   "metadata": {},
   "outputs": [],
   "source": [
    "C_1 = insulation['Density'] * insulation['Specific heat'] * SLw * insulation['Width'] #isolation left wall \n",
    "C_2 = concrete['Density'] * concrete['Specific heat'] * SLw * concrete['Width'] #concrete left wall \n",
    "C_6 = 0\n",
    "C_8 = insulation['Density'] * insulation['Specific heat'] * SRw * insulation['Width'] #isolation right wall \n",
    "C_9 = concrete['Density'] * concrete['Specific heat'] * SRw * concrete['Width'] #concrete richt wall \n"
   ]
  },
  {
   "attachments": {},
   "cell_type": "markdown",
   "metadata": {},
   "source": [
    "#### b. Air"
   ]
  },
  {
   "cell_type": "code",
   "execution_count": 20,
   "metadata": {},
   "outputs": [],
   "source": [
    "C_air = air['Density'] * air['Specific heat'] * Va\n",
    "C_4 = C_7 = C_air"
   ]
  },
  {
   "attachments": {},
   "cell_type": "markdown",
   "metadata": {},
   "source": [
    "## III. System of algebraic-differential equations (DAE)"
   ]
  },
  {
   "attachments": {},
   "cell_type": "markdown",
   "metadata": {},
   "source": [
    "### 1.  Incidence matrix: A"
   ]
  },
  {
   "cell_type": "code",
   "execution_count": 21,
   "metadata": {},
   "outputs": [],
   "source": [
    "A = np.zeros([15,10])\n",
    "A[0,0] = 1\n",
    "A[1,0], A[1,1] = -1,1\n",
    "A[2,1], A[2,2] = -1,1\n",
    "A[3,2], A[3,3] = -1,1\n",
    "A[4,3], A[4,4] = -1,1\n",
    "A[5,3],A[5,5] = 1,-1\n",
    "A[6,6] = 1\n",
    "A[7,5],A[7,6] = 1,-1\n",
    "A[8,4],A[8,5] = 1,-1\n",
    "A[9,4], A[9,7]= -1,1\n",
    "A[10,7], A[10,8] = 1,-1\n",
    "A[11,8],A[11,9] = 1,-1\n",
    "A[12,9] = 1\n",
    "A[13,7] = 1\n",
    "A[14,7] = 1\n"
   ]
  },
  {
   "attachments": {},
   "cell_type": "markdown",
   "metadata": {},
   "source": [
    "### 2. Conductance matrix : G"
   ]
  },
  {
   "cell_type": "code",
   "execution_count": 22,
   "metadata": {},
   "outputs": [],
   "source": [
    "G = np.zeros([15,15])\n",
    "G[0,0] = G_0\n",
    "G[1,1] = G_1\n",
    "G[2,2] = G_2\n",
    "G[3,3] = G_3\n",
    "G[4,4] = G_4\n",
    "G[5,5] = G_5\n",
    "G[6,6] = G_6\n",
    "G[7,7] = G_7\n",
    "G[8,8] = G_8\n",
    "G[9,9] = G_9\n",
    "G[10,10] = G_10\n",
    "G[11,11] = G_11\n",
    "G[12,12] = G_12\n",
    "G[13,13] = Kp\n",
    "G[14,14] = G_14"
   ]
  },
  {
   "attachments": {},
   "cell_type": "markdown",
   "metadata": {},
   "source": [
    "### 3. Capacity matrix : C"
   ]
  },
  {
   "cell_type": "code",
   "execution_count": 23,
   "metadata": {},
   "outputs": [],
   "source": [
    "C = np.zeros([10,10])\n",
    "C[1,1] = C_1\n",
    "C[2,2] = C_2\n",
    "C[4,4] = C_4\n",
    "C[6,6] = C_6\n",
    "C[7,7] = C_7\n",
    "C[8,8] = C_8\n",
    "C[9,9] = C_9"
   ]
  },
  {
   "attachments": {},
   "cell_type": "markdown",
   "metadata": {},
   "source": [
    "### 4. Temperature source vector : b"
   ]
  },
  {
   "cell_type": "code",
   "execution_count": 24,
   "metadata": {},
   "outputs": [],
   "source": [
    "Tout = 10 #ext\n",
    "Tisp = 20\n",
    "b = np.zeros(15)        # branches\n",
    "b[[0, 6, 12, 13, 14]] = 1   # branches with temperature sources"
   ]
  },
  {
   "attachments": {},
   "cell_type": "markdown",
   "metadata": {},
   "source": [
    "### 5. Heat flow source vector : f"
   ]
  },
  {
   "cell_type": "code",
   "execution_count": 25,
   "metadata": {},
   "outputs": [],
   "source": [
    "f = np.zeros(10)         # nodes\n",
    "f[[0,3,6]] = 1     # nodes with heat-flow sources"
   ]
  },
  {
   "attachments": {},
   "cell_type": "markdown",
   "metadata": {},
   "source": [
    "### 6. Output vector : y"
   ]
  },
  {
   "cell_type": "code",
   "execution_count": 26,
   "metadata": {},
   "outputs": [],
   "source": [
    "y = np.zeros(10)         # nodes\n",
    "y[[ 4, 7]] = 1           # nodes (temperatures) of interest"
   ]
  },
  {
   "attachments": {},
   "cell_type": "markdown",
   "metadata": {},
   "source": [
    "## IV. State-space representation"
   ]
  },
  {
   "cell_type": "code",
   "execution_count": 27,
   "metadata": {},
   "outputs": [],
   "source": [
    "[As, Bs, Cs, Ds] = dm4bem.tc2ss(A, G, b, C, f, y)\n"
   ]
  },
  {
   "attachments": {},
   "cell_type": "markdown",
   "metadata": {},
   "source": [
    "## V. Steady-state"
   ]
  },
  {
   "attachments": {},
   "cell_type": "markdown",
   "metadata": {},
   "source": [
    "Then, we calculate the steady-state response of the system of Differential Algebraic Equations (DAE) to obtain the matrices As, Bs, Cs and Ds of the state-space representation. Then, we give the values of the input vector : $$u = \\begin{bmatrix} b_T \\\\ f_Q\\end{bmatrix}$$. Finally, we compare the results obtained for the system of DAE with the results obtained for the state-space representation."
   ]
  },
  {
   "cell_type": "code",
   "execution_count": 28,
   "metadata": {},
   "outputs": [],
   "source": [
    "b = np.zeros(15)        # temperature sources\n",
    "b[[0, 6, 12, 14]] = Tout    # outdoor temperature\n",
    "b[[13]] = Tisp      # indoor set-point temperature\n",
    "\n",
    "f = np.zeros(10)         # flow-rate sources"
   ]
  },
  {
   "attachments": {},
   "cell_type": "markdown",
   "metadata": {},
   "source": [
    "### 1. System of Diferential Algebraic Equations (DAE)"
   ]
  },
  {
   "cell_type": "code",
   "execution_count": 29,
   "metadata": {},
   "outputs": [],
   "source": [
    "θ = np.linalg.inv(A.T @ G @ A) @ (A.T @ G @ b + f)"
   ]
  },
  {
   "attachments": {},
   "cell_type": "markdown",
   "metadata": {},
   "source": [
    "### 2. State-space representation"
   ]
  },
  {
   "cell_type": "code",
   "execution_count": 30,
   "metadata": {},
   "outputs": [],
   "source": [
    "bT = np.array([10, 10, 10, 20, 10])     # [To, To, To, Tisp, To]\n",
    "fQ = np.array([0, 0, 0])         # [Φo, Φi, Φa]\n",
    "u = np.hstack([bT, fQ])"
   ]
  },
  {
   "attachments": {},
   "cell_type": "markdown",
   "metadata": {},
   "source": [
    "The steady-state value of the output of the state-space representation is obtained when $\\dot \\theta_{C} = 0$:\n",
    "\n",
    "$$y_{ss} = (-C_s A_s^{-1} B_s + D_s) u$$"
   ]
  },
  {
   "cell_type": "code",
   "execution_count": 31,
   "metadata": {},
   "outputs": [],
   "source": [
    "yss = (-Cs @ np.linalg.inv(As) @ Bs + Ds) @ u"
   ]
  },
  {
   "attachments": {},
   "cell_type": "markdown",
   "metadata": {},
   "source": [
    "The error between the steady-state values obtained from the system of DAE, $\\theta_6$, and the output of the state-space representation, $y_{ss}$, \n",
    "\n",
    "$$\\varepsilon = \\left | \\theta_6 - y_{ss} \\right |$$"
   ]
  },
  {
   "cell_type": "code",
   "execution_count": 32,
   "metadata": {},
   "outputs": [
    {
     "name": "stdout",
     "output_type": "stream",
     "text": [
      "Max error between DAE and state-space: 5.33e-15 °C\n"
     ]
    }
   ],
   "source": [
    "print(f'Max error between DAE and state-space: \\\n",
    "{max(abs(θ[6] - yss)):.2e} °C')"
   ]
  },
  {
   "attachments": {},
   "cell_type": "markdown",
   "metadata": {},
   "source": [
    "## VI. Dynamic simulation"
   ]
  },
  {
   "attachments": {},
   "cell_type": "markdown",
   "metadata": {},
   "source": [
    "### 1. Time step"
   ]
  },
  {
   "cell_type": "code",
   "execution_count": 33,
   "metadata": {},
   "outputs": [
    {
     "name": "stdout",
     "output_type": "stream",
     "text": [
      "Time constants: \n",
      " [   160.90008921    323.1914512    1584.69264968   1608.01590753\n",
      "  43610.48244876 121666.46737226] s \n",
      "\n",
      "2 x Time constants: \n",
      " [   321.80017843    646.38290239   3169.38529936   3216.03181506\n",
      "  87220.96489752 243332.93474452] s \n",
      "\n",
      "Maximum time step: 321.80 s = 5.36 min\n"
     ]
    }
   ],
   "source": [
    "λ = np.linalg.eig(As)[0]    # eigenvalues of matrix As\n",
    "\n",
    "print('Time constants: \\n', -1 / λ, 's \\n')\n",
    "print('2 x Time constants: \\n', -2 / λ, 's \\n')\n",
    "dtmax = 2 * min(-1. / λ)\n",
    "print(f'Maximum time step: {dtmax:.2f} s = {dtmax / 60:.2f} min')"
   ]
  },
  {
   "attachments": {},
   "cell_type": "markdown",
   "metadata": {},
   "source": [
    "Let's chose a time step smaller than $\\Delta t_{max} = \\min (-2 / \\lambda_i) $."
   ]
  },
  {
   "cell_type": "code",
   "execution_count": 34,
   "metadata": {},
   "outputs": [
    {
     "name": "stdout",
     "output_type": "stream",
     "text": [
      "dt = 300.0 s = 5 min\n"
     ]
    }
   ],
   "source": [
    "# time step\n",
    "dt = np.floor(dtmax / 60) * 60   # s\n",
    "print(f'dt = {dt} s = {dt / 60:.0f} min')"
   ]
  },
  {
   "attachments": {},
   "cell_type": "markdown",
   "metadata": {},
   "source": [
    "### 2. Settling time"
   ]
  },
  {
   "cell_type": "code",
   "execution_count": 35,
   "metadata": {},
   "outputs": [
    {
     "name": "stdout",
     "output_type": "stream",
     "text": [
      "4 * Time constants: \n",
      " [   640   1292   6336   6432 174440 486664] s \n",
      "\n",
      "Settling time: 486666 s = 8111.1 min = 135.18 h = 5.63 days\n"
     ]
    }
   ],
   "source": [
    "# settling time\n",
    "time_const = np.array([int(x) for x in sorted(-1 / λ)])\n",
    "print('4 * Time constants: \\n', 4 * time_const, 's \\n')\n",
    "\n",
    "t_settle = 4 * max(-1 / λ)\n",
    "print(f'Settling time: \\\n",
    "{t_settle:.0f} s = \\\n",
    "{t_settle / 60:.1f} min = \\\n",
    "{t_settle / (3600):.2f} h = \\\n",
    "{t_settle / (3600 * 24):.2f} days')"
   ]
  },
  {
   "attachments": {},
   "cell_type": "markdown",
   "metadata": {},
   "source": [
    "### 3. Step response"
   ]
  },
  {
   "attachments": {},
   "cell_type": "markdown",
   "metadata": {},
   "source": [
    "#### a. Duration"
   ]
  },
  {
   "cell_type": "code",
   "execution_count": 36,
   "metadata": {},
   "outputs": [
    {
     "name": "stdout",
     "output_type": "stream",
     "text": [
      "Duration = 489600.0 s\n",
      "Number of time steps = 1632\n"
     ]
    },
    {
     "data": {
      "text/html": [
       "<div>\n",
       "<style scoped>\n",
       "    .dataframe tbody tr th:only-of-type {\n",
       "        vertical-align: middle;\n",
       "    }\n",
       "\n",
       "    .dataframe tbody tr th {\n",
       "        vertical-align: top;\n",
       "    }\n",
       "\n",
       "    .dataframe thead th {\n",
       "        text-align: right;\n",
       "    }\n",
       "</style>\n",
       "<table border=\"1\" class=\"dataframe\">\n",
       "  <thead>\n",
       "    <tr style=\"text-align: right;\">\n",
       "      <th></th>\n",
       "      <th>time</th>\n",
       "    </tr>\n",
       "  </thead>\n",
       "  <tbody>\n",
       "    <tr>\n",
       "      <th>0</th>\n",
       "      <td>0.0</td>\n",
       "    </tr>\n",
       "    <tr>\n",
       "      <th>1</th>\n",
       "      <td>300.0</td>\n",
       "    </tr>\n",
       "    <tr>\n",
       "      <th>2</th>\n",
       "      <td>600.0</td>\n",
       "    </tr>\n",
       "    <tr>\n",
       "      <th>3</th>\n",
       "      <td>900.0</td>\n",
       "    </tr>\n",
       "    <tr>\n",
       "      <th>4</th>\n",
       "      <td>1200.0</td>\n",
       "    </tr>\n",
       "    <tr>\n",
       "      <th>...</th>\n",
       "      <td>...</td>\n",
       "    </tr>\n",
       "    <tr>\n",
       "      <th>1627</th>\n",
       "      <td>488100.0</td>\n",
       "    </tr>\n",
       "    <tr>\n",
       "      <th>1628</th>\n",
       "      <td>488400.0</td>\n",
       "    </tr>\n",
       "    <tr>\n",
       "      <th>1629</th>\n",
       "      <td>488700.0</td>\n",
       "    </tr>\n",
       "    <tr>\n",
       "      <th>1630</th>\n",
       "      <td>489000.0</td>\n",
       "    </tr>\n",
       "    <tr>\n",
       "      <th>1631</th>\n",
       "      <td>489300.0</td>\n",
       "    </tr>\n",
       "  </tbody>\n",
       "</table>\n",
       "<p>1632 rows × 1 columns</p>\n",
       "</div>"
      ],
      "text/plain": [
       "          time\n",
       "0          0.0\n",
       "1        300.0\n",
       "2        600.0\n",
       "3        900.0\n",
       "4       1200.0\n",
       "...        ...\n",
       "1627  488100.0\n",
       "1628  488400.0\n",
       "1629  488700.0\n",
       "1630  489000.0\n",
       "1631  489300.0\n",
       "\n",
       "[1632 rows x 1 columns]"
      ]
     },
     "execution_count": 36,
     "metadata": {},
     "output_type": "execute_result"
    }
   ],
   "source": [
    "# Step response\n",
    "# -------------\n",
    "# Find the next multiple of 3600 s that is larger than t_settle\n",
    "duration = np.ceil(t_settle / 3600) * 3600\n",
    "n = int(np.floor(duration / dt))    # number of time steps\n",
    "t = np.arange(0, n * dt, dt)        # time vector for n time steps\n",
    "\n",
    "print(f'Duration = {duration} s')\n",
    "print(f'Number of time steps = {n}')\n",
    "\n",
    "pd.DataFrame(t, columns=['time'])"
   ]
  },
  {
   "attachments": {},
   "cell_type": "markdown",
   "metadata": {},
   "source": [
    "#### b. Input vector"
   ]
  },
  {
   "cell_type": "code",
   "execution_count": 37,
   "metadata": {},
   "outputs": [
    {
     "data": {
      "text/html": [
       "<div>\n",
       "<style scoped>\n",
       "    .dataframe tbody tr th:only-of-type {\n",
       "        vertical-align: middle;\n",
       "    }\n",
       "\n",
       "    .dataframe tbody tr th {\n",
       "        vertical-align: top;\n",
       "    }\n",
       "\n",
       "    .dataframe thead th {\n",
       "        text-align: right;\n",
       "    }\n",
       "</style>\n",
       "<table border=\"1\" class=\"dataframe\">\n",
       "  <thead>\n",
       "    <tr style=\"text-align: right;\">\n",
       "      <th></th>\n",
       "      <th>0</th>\n",
       "      <th>1</th>\n",
       "      <th>2</th>\n",
       "      <th>3</th>\n",
       "      <th>4</th>\n",
       "      <th>5</th>\n",
       "      <th>6</th>\n",
       "      <th>7</th>\n",
       "      <th>8</th>\n",
       "      <th>9</th>\n",
       "      <th>...</th>\n",
       "      <th>1622</th>\n",
       "      <th>1623</th>\n",
       "      <th>1624</th>\n",
       "      <th>1625</th>\n",
       "      <th>1626</th>\n",
       "      <th>1627</th>\n",
       "      <th>1628</th>\n",
       "      <th>1629</th>\n",
       "      <th>1630</th>\n",
       "      <th>1631</th>\n",
       "    </tr>\n",
       "  </thead>\n",
       "  <tbody>\n",
       "    <tr>\n",
       "      <th>0</th>\n",
       "      <td>10.0</td>\n",
       "      <td>10.0</td>\n",
       "      <td>10.0</td>\n",
       "      <td>10.0</td>\n",
       "      <td>10.0</td>\n",
       "      <td>10.0</td>\n",
       "      <td>10.0</td>\n",
       "      <td>10.0</td>\n",
       "      <td>10.0</td>\n",
       "      <td>10.0</td>\n",
       "      <td>...</td>\n",
       "      <td>10.0</td>\n",
       "      <td>10.0</td>\n",
       "      <td>10.0</td>\n",
       "      <td>10.0</td>\n",
       "      <td>10.0</td>\n",
       "      <td>10.0</td>\n",
       "      <td>10.0</td>\n",
       "      <td>10.0</td>\n",
       "      <td>10.0</td>\n",
       "      <td>10.0</td>\n",
       "    </tr>\n",
       "    <tr>\n",
       "      <th>1</th>\n",
       "      <td>10.0</td>\n",
       "      <td>10.0</td>\n",
       "      <td>10.0</td>\n",
       "      <td>10.0</td>\n",
       "      <td>10.0</td>\n",
       "      <td>10.0</td>\n",
       "      <td>10.0</td>\n",
       "      <td>10.0</td>\n",
       "      <td>10.0</td>\n",
       "      <td>10.0</td>\n",
       "      <td>...</td>\n",
       "      <td>10.0</td>\n",
       "      <td>10.0</td>\n",
       "      <td>10.0</td>\n",
       "      <td>10.0</td>\n",
       "      <td>10.0</td>\n",
       "      <td>10.0</td>\n",
       "      <td>10.0</td>\n",
       "      <td>10.0</td>\n",
       "      <td>10.0</td>\n",
       "      <td>10.0</td>\n",
       "    </tr>\n",
       "    <tr>\n",
       "      <th>2</th>\n",
       "      <td>10.0</td>\n",
       "      <td>10.0</td>\n",
       "      <td>10.0</td>\n",
       "      <td>10.0</td>\n",
       "      <td>10.0</td>\n",
       "      <td>10.0</td>\n",
       "      <td>10.0</td>\n",
       "      <td>10.0</td>\n",
       "      <td>10.0</td>\n",
       "      <td>10.0</td>\n",
       "      <td>...</td>\n",
       "      <td>10.0</td>\n",
       "      <td>10.0</td>\n",
       "      <td>10.0</td>\n",
       "      <td>10.0</td>\n",
       "      <td>10.0</td>\n",
       "      <td>10.0</td>\n",
       "      <td>10.0</td>\n",
       "      <td>10.0</td>\n",
       "      <td>10.0</td>\n",
       "      <td>10.0</td>\n",
       "    </tr>\n",
       "    <tr>\n",
       "      <th>3</th>\n",
       "      <td>20.0</td>\n",
       "      <td>20.0</td>\n",
       "      <td>20.0</td>\n",
       "      <td>20.0</td>\n",
       "      <td>20.0</td>\n",
       "      <td>20.0</td>\n",
       "      <td>20.0</td>\n",
       "      <td>20.0</td>\n",
       "      <td>20.0</td>\n",
       "      <td>20.0</td>\n",
       "      <td>...</td>\n",
       "      <td>20.0</td>\n",
       "      <td>20.0</td>\n",
       "      <td>20.0</td>\n",
       "      <td>20.0</td>\n",
       "      <td>20.0</td>\n",
       "      <td>20.0</td>\n",
       "      <td>20.0</td>\n",
       "      <td>20.0</td>\n",
       "      <td>20.0</td>\n",
       "      <td>20.0</td>\n",
       "    </tr>\n",
       "    <tr>\n",
       "      <th>4</th>\n",
       "      <td>10.0</td>\n",
       "      <td>10.0</td>\n",
       "      <td>10.0</td>\n",
       "      <td>10.0</td>\n",
       "      <td>10.0</td>\n",
       "      <td>10.0</td>\n",
       "      <td>10.0</td>\n",
       "      <td>10.0</td>\n",
       "      <td>10.0</td>\n",
       "      <td>10.0</td>\n",
       "      <td>...</td>\n",
       "      <td>10.0</td>\n",
       "      <td>10.0</td>\n",
       "      <td>10.0</td>\n",
       "      <td>10.0</td>\n",
       "      <td>10.0</td>\n",
       "      <td>10.0</td>\n",
       "      <td>10.0</td>\n",
       "      <td>10.0</td>\n",
       "      <td>10.0</td>\n",
       "      <td>10.0</td>\n",
       "    </tr>\n",
       "    <tr>\n",
       "      <th>5</th>\n",
       "      <td>0.0</td>\n",
       "      <td>0.0</td>\n",
       "      <td>0.0</td>\n",
       "      <td>0.0</td>\n",
       "      <td>0.0</td>\n",
       "      <td>0.0</td>\n",
       "      <td>0.0</td>\n",
       "      <td>0.0</td>\n",
       "      <td>0.0</td>\n",
       "      <td>0.0</td>\n",
       "      <td>...</td>\n",
       "      <td>0.0</td>\n",
       "      <td>0.0</td>\n",
       "      <td>0.0</td>\n",
       "      <td>0.0</td>\n",
       "      <td>0.0</td>\n",
       "      <td>0.0</td>\n",
       "      <td>0.0</td>\n",
       "      <td>0.0</td>\n",
       "      <td>0.0</td>\n",
       "      <td>0.0</td>\n",
       "    </tr>\n",
       "    <tr>\n",
       "      <th>6</th>\n",
       "      <td>0.0</td>\n",
       "      <td>0.0</td>\n",
       "      <td>0.0</td>\n",
       "      <td>0.0</td>\n",
       "      <td>0.0</td>\n",
       "      <td>0.0</td>\n",
       "      <td>0.0</td>\n",
       "      <td>0.0</td>\n",
       "      <td>0.0</td>\n",
       "      <td>0.0</td>\n",
       "      <td>...</td>\n",
       "      <td>0.0</td>\n",
       "      <td>0.0</td>\n",
       "      <td>0.0</td>\n",
       "      <td>0.0</td>\n",
       "      <td>0.0</td>\n",
       "      <td>0.0</td>\n",
       "      <td>0.0</td>\n",
       "      <td>0.0</td>\n",
       "      <td>0.0</td>\n",
       "      <td>0.0</td>\n",
       "    </tr>\n",
       "    <tr>\n",
       "      <th>7</th>\n",
       "      <td>0.0</td>\n",
       "      <td>0.0</td>\n",
       "      <td>0.0</td>\n",
       "      <td>0.0</td>\n",
       "      <td>0.0</td>\n",
       "      <td>0.0</td>\n",
       "      <td>0.0</td>\n",
       "      <td>0.0</td>\n",
       "      <td>0.0</td>\n",
       "      <td>0.0</td>\n",
       "      <td>...</td>\n",
       "      <td>0.0</td>\n",
       "      <td>0.0</td>\n",
       "      <td>0.0</td>\n",
       "      <td>0.0</td>\n",
       "      <td>0.0</td>\n",
       "      <td>0.0</td>\n",
       "      <td>0.0</td>\n",
       "      <td>0.0</td>\n",
       "      <td>0.0</td>\n",
       "      <td>0.0</td>\n",
       "    </tr>\n",
       "  </tbody>\n",
       "</table>\n",
       "<p>8 rows × 1632 columns</p>\n",
       "</div>"
      ],
      "text/plain": [
       "   0     1     2     3     4     5     6     7     8     9     ...  1622   \n",
       "0  10.0  10.0  10.0  10.0  10.0  10.0  10.0  10.0  10.0  10.0  ...  10.0  \\\n",
       "1  10.0  10.0  10.0  10.0  10.0  10.0  10.0  10.0  10.0  10.0  ...  10.0   \n",
       "2  10.0  10.0  10.0  10.0  10.0  10.0  10.0  10.0  10.0  10.0  ...  10.0   \n",
       "3  20.0  20.0  20.0  20.0  20.0  20.0  20.0  20.0  20.0  20.0  ...  20.0   \n",
       "4  10.0  10.0  10.0  10.0  10.0  10.0  10.0  10.0  10.0  10.0  ...  10.0   \n",
       "5   0.0   0.0   0.0   0.0   0.0   0.0   0.0   0.0   0.0   0.0  ...   0.0   \n",
       "6   0.0   0.0   0.0   0.0   0.0   0.0   0.0   0.0   0.0   0.0  ...   0.0   \n",
       "7   0.0   0.0   0.0   0.0   0.0   0.0   0.0   0.0   0.0   0.0  ...   0.0   \n",
       "\n",
       "   1623  1624  1625  1626  1627  1628  1629  1630  1631  \n",
       "0  10.0  10.0  10.0  10.0  10.0  10.0  10.0  10.0  10.0  \n",
       "1  10.0  10.0  10.0  10.0  10.0  10.0  10.0  10.0  10.0  \n",
       "2  10.0  10.0  10.0  10.0  10.0  10.0  10.0  10.0  10.0  \n",
       "3  20.0  20.0  20.0  20.0  20.0  20.0  20.0  20.0  20.0  \n",
       "4  10.0  10.0  10.0  10.0  10.0  10.0  10.0  10.0  10.0  \n",
       "5   0.0   0.0   0.0   0.0   0.0   0.0   0.0   0.0   0.0  \n",
       "6   0.0   0.0   0.0   0.0   0.0   0.0   0.0   0.0   0.0  \n",
       "7   0.0   0.0   0.0   0.0   0.0   0.0   0.0   0.0   0.0  \n",
       "\n",
       "[8 rows x 1632 columns]"
      ]
     },
     "execution_count": 37,
     "metadata": {},
     "output_type": "execute_result"
    }
   ],
   "source": [
    "u = np.zeros([8, n])                # u = [To To To Tisp To Φo Φi Φa]\n",
    "u[0:5, :] = 10 * np.ones([5, n])    # To = 10 for n time steps\n",
    "u[3, :] = 20 * np.ones([1, n])      # Tisp = 20 for n time steps\n",
    "\n",
    "pd.DataFrame(u)"
   ]
  },
  {
   "attachments": {},
   "cell_type": "markdown",
   "metadata": {},
   "source": [
    "#### c. Time integration"
   ]
  },
  {
   "cell_type": "code",
   "execution_count": 38,
   "metadata": {},
   "outputs": [],
   "source": [
    "n_s = As.shape[0]                      # number of state variables\n",
    "θ_exp = np.zeros([n_s, t.shape[0]])    # explicit Euler in time t\n",
    "θ_imp = np.zeros([n_s, t.shape[0]])    # implicit Euler in time t\n",
    "\n",
    "I = np.eye(n_s)                        # identity matrix\n",
    "\n",
    "for k in range(n - 1):\n",
    "    θ_exp[:, k + 1] = (I + dt * As) @\\\n",
    "        θ_exp[:, k] + dt * Bs @ u[:, k]\n",
    "    θ_imp[:, k + 1] = np.linalg.inv(I - dt * As) @\\\n",
    "        (θ_imp[:, k] + dt * Bs @ u[:, k])"
   ]
  },
  {
   "attachments": {},
   "cell_type": "markdown",
   "metadata": {},
   "source": [
    "we obtain the outputs\n",
    "\n",
    "$$ y = C_s \\theta_s + D_s u$$\n",
    "\n",
    "for explicit and for implicit Euler methods, respectively."
   ]
  },
  {
   "cell_type": "code",
   "execution_count": 39,
   "metadata": {},
   "outputs": [],
   "source": [
    "y_exp = Cs @ θ_exp + Ds @  u\n",
    "y_imp = Cs @ θ_imp + Ds @  u"
   ]
  },
  {
   "cell_type": "markdown",
   "metadata": {},
   "source": [
    "The results of explicit and implicit Euler integration are practically identical."
   ]
  },
  {
   "cell_type": "code",
   "execution_count": 40,
   "metadata": {},
   "outputs": [
    {
     "data": {
      "image/png": "[encoded data removed]",
      "text/plain": [
       "<Figure size 640x480 with 1 Axes>"
      ]
     },
     "metadata": {},
     "output_type": "display_data"
    }
   ],
   "source": [
    "fig, ax = plt.subplots()\n",
    "ax.plot(t / 3600, y_exp.T, t / 3600, y_imp.T)\n",
    "ax.set(xlabel='Time, $t$ / h',\n",
    "       ylabel='Temperatue, $θ_i$ / °C',\n",
    "       title='Step input: outdoor temperature $T_o$')\n",
    "ax.legend(['Explicit', 'Implicit'])\n",
    "ax.grid()\n",
    "plt.show()"
   ]
  },
  {
   "attachments": {},
   "cell_type": "markdown",
   "metadata": {},
   "source": [
    "> Figure 4. Step response to outdoor temperature by using Euler"
   ]
  },
  {
   "attachments": {},
   "cell_type": "markdown",
   "metadata": {},
   "source": [
    "### 4. Simulation with weather data"
   ]
  },
  {
   "attachments": {},
   "cell_type": "markdown",
   "metadata": {},
   "source": [
    "#### a. Start and end time"
   ]
  },
  {
   "cell_type": "code",
   "execution_count": 41,
   "metadata": {},
   "outputs": [],
   "source": [
    "start_date = '01-03 12:00:00'\n",
    "end_date = '02-05 18:00:00'"
   ]
  },
  {
   "cell_type": "code",
   "execution_count": 42,
   "metadata": {},
   "outputs": [
    {
     "name": "stdout",
     "output_type": "stream",
     "text": [
      "2000-01-03 12:00:00 \tstart date\n",
      "2000-02-05 18:00:00 \tend date\n"
     ]
    }
   ],
   "source": [
    "start_date = '2000-' + start_date\n",
    "end_date = '2000-' + end_date\n",
    "print(f'{start_date} \\tstart date')\n",
    "print(f'{end_date} \\tend date')"
   ]
  },
  {
   "attachments": {},
   "cell_type": "markdown",
   "metadata": {},
   "source": [
    "#### b. Inputs"
   ]
  },
  {
   "attachments": {},
   "cell_type": "markdown",
   "metadata": {},
   "source": [
    "##### Read weather data"
   ]
  },
  {
   "cell_type": "code",
   "execution_count": 43,
   "metadata": {},
   "outputs": [],
   "source": [
    "filename = './weather_data/FRA_Lyon.074810_IWEC.epw'\n",
    "[data, meta] = dm4bem.read_epw(filename, coerce_year=None)\n",
    "weather = data[[\"temp_air\", \"dir_n_rad\", \"dif_h_rad\"]]\n",
    "del data"
   ]
  },
  {
   "cell_type": "code",
   "execution_count": 44,
   "metadata": {},
   "outputs": [],
   "source": [
    "weather.index = weather.index.map(lambda t: t.replace(year=2000))\n",
    "weather = weather.loc[start_date:end_date]"
   ]
  },
  {
   "attachments": {},
   "cell_type": "markdown",
   "metadata": {},
   "source": [
    "##### Solar irradiance on the walls"
   ]
  },
  {
   "cell_type": "code",
   "execution_count": 45,
   "metadata": {},
   "outputs": [
    {
     "data": {
      "text/html": [
       "<div>\n",
       "<style scoped>\n",
       "    .dataframe tbody tr th:only-of-type {\n",
       "        vertical-align: middle;\n",
       "    }\n",
       "\n",
       "    .dataframe tbody tr th {\n",
       "        vertical-align: top;\n",
       "    }\n",
       "\n",
       "    .dataframe thead th {\n",
       "        text-align: right;\n",
       "    }\n",
       "</style>\n",
       "<table border=\"1\" class=\"dataframe\">\n",
       "  <thead>\n",
       "    <tr style=\"text-align: right;\">\n",
       "      <th></th>\n",
       "      <th>direct</th>\n",
       "      <th>diffuse</th>\n",
       "      <th>reflected</th>\n",
       "    </tr>\n",
       "  </thead>\n",
       "  <tbody>\n",
       "    <tr>\n",
       "      <th>2000-01-03 12:00:00+01:00</th>\n",
       "      <td>5.423683</td>\n",
       "      <td>66.5</td>\n",
       "      <td>27.025936</td>\n",
       "    </tr>\n",
       "    <tr>\n",
       "      <th>2000-01-03 13:00:00+01:00</th>\n",
       "      <td>62.074669</td>\n",
       "      <td>75.0</td>\n",
       "      <td>34.289730</td>\n",
       "    </tr>\n",
       "    <tr>\n",
       "      <th>2000-01-03 14:00:00+01:00</th>\n",
       "      <td>66.175859</td>\n",
       "      <td>67.5</td>\n",
       "      <td>30.353167</td>\n",
       "    </tr>\n",
       "    <tr>\n",
       "      <th>2000-01-03 15:00:00+01:00</th>\n",
       "      <td>38.420856</td>\n",
       "      <td>42.0</td>\n",
       "      <td>17.456968</td>\n",
       "    </tr>\n",
       "    <tr>\n",
       "      <th>2000-01-03 16:00:00+01:00</th>\n",
       "      <td>0.000000</td>\n",
       "      <td>9.5</td>\n",
       "      <td>3.800000</td>\n",
       "    </tr>\n",
       "    <tr>\n",
       "      <th>...</th>\n",
       "      <td>...</td>\n",
       "      <td>...</td>\n",
       "      <td>...</td>\n",
       "    </tr>\n",
       "    <tr>\n",
       "      <th>2000-02-05 14:00:00+01:00</th>\n",
       "      <td>366.835007</td>\n",
       "      <td>63.0</td>\n",
       "      <td>55.437685</td>\n",
       "    </tr>\n",
       "    <tr>\n",
       "      <th>2000-02-05 15:00:00+01:00</th>\n",
       "      <td>206.374750</td>\n",
       "      <td>54.5</td>\n",
       "      <td>32.485083</td>\n",
       "    </tr>\n",
       "    <tr>\n",
       "      <th>2000-02-05 16:00:00+01:00</th>\n",
       "      <td>51.032277</td>\n",
       "      <td>39.5</td>\n",
       "      <td>15.800272</td>\n",
       "    </tr>\n",
       "    <tr>\n",
       "      <th>2000-02-05 17:00:00+01:00</th>\n",
       "      <td>0.000000</td>\n",
       "      <td>6.0</td>\n",
       "      <td>2.400000</td>\n",
       "    </tr>\n",
       "    <tr>\n",
       "      <th>2000-02-05 18:00:00+01:00</th>\n",
       "      <td>0.000000</td>\n",
       "      <td>0.0</td>\n",
       "      <td>0.000000</td>\n",
       "    </tr>\n",
       "  </tbody>\n",
       "</table>\n",
       "<p>799 rows × 3 columns</p>\n",
       "</div>"
      ],
      "text/plain": [
       "                               direct  diffuse  reflected\n",
       "2000-01-03 12:00:00+01:00    5.423683     66.5  27.025936\n",
       "2000-01-03 13:00:00+01:00   62.074669     75.0  34.289730\n",
       "2000-01-03 14:00:00+01:00   66.175859     67.5  30.353167\n",
       "2000-01-03 15:00:00+01:00   38.420856     42.0  17.456968\n",
       "2000-01-03 16:00:00+01:00    0.000000      9.5   3.800000\n",
       "...                               ...      ...        ...\n",
       "2000-02-05 14:00:00+01:00  366.835007     63.0  55.437685\n",
       "2000-02-05 15:00:00+01:00  206.374750     54.5  32.485083\n",
       "2000-02-05 16:00:00+01:00   51.032277     39.5  15.800272\n",
       "2000-02-05 17:00:00+01:00    0.000000      6.0   2.400000\n",
       "2000-02-05 18:00:00+01:00    0.000000      0.0   0.000000\n",
       "\n",
       "[799 rows x 3 columns]"
      ]
     },
     "execution_count": 45,
     "metadata": {},
     "output_type": "execute_result"
    }
   ],
   "source": [
    "surface_orientation = {'slope': 90,\n",
    "                       'azimuth': 0,\n",
    "                       'latitude': 45}\n",
    "albedo = 0.2\n",
    "rad_surf = dm4bem.sol_rad_tilt_surf(\n",
    "    weather, surface_orientation, albedo)\n",
    "\n",
    "pd.DataFrame(rad_surf)"
   ]
  },
  {
   "attachments": {},
   "cell_type": "markdown",
   "metadata": {},
   "source": [
    "The total solar irradiance $E_{tot}$, in W/m², is the sum of direct, diffuse, and reflected components.  "
   ]
  },
  {
   "cell_type": "code",
   "execution_count": 46,
   "metadata": {},
   "outputs": [
    {
     "data": {
      "text/html": [
       "<div>\n",
       "<style scoped>\n",
       "    .dataframe tbody tr th:only-of-type {\n",
       "        vertical-align: middle;\n",
       "    }\n",
       "\n",
       "    .dataframe tbody tr th {\n",
       "        vertical-align: top;\n",
       "    }\n",
       "\n",
       "    .dataframe thead th {\n",
       "        text-align: right;\n",
       "    }\n",
       "</style>\n",
       "<table border=\"1\" class=\"dataframe\">\n",
       "  <thead>\n",
       "    <tr style=\"text-align: right;\">\n",
       "      <th></th>\n",
       "      <th>direct</th>\n",
       "      <th>diffuse</th>\n",
       "      <th>reflected</th>\n",
       "      <th>Φtot</th>\n",
       "    </tr>\n",
       "  </thead>\n",
       "  <tbody>\n",
       "    <tr>\n",
       "      <th>2000-01-03 12:00:00+01:00</th>\n",
       "      <td>5.423683</td>\n",
       "      <td>66.5</td>\n",
       "      <td>27.025936</td>\n",
       "      <td>98.949619</td>\n",
       "    </tr>\n",
       "    <tr>\n",
       "      <th>2000-01-03 13:00:00+01:00</th>\n",
       "      <td>62.074669</td>\n",
       "      <td>75.0</td>\n",
       "      <td>34.289730</td>\n",
       "      <td>171.364399</td>\n",
       "    </tr>\n",
       "    <tr>\n",
       "      <th>2000-01-03 14:00:00+01:00</th>\n",
       "      <td>66.175859</td>\n",
       "      <td>67.5</td>\n",
       "      <td>30.353167</td>\n",
       "      <td>164.029026</td>\n",
       "    </tr>\n",
       "    <tr>\n",
       "      <th>2000-01-03 15:00:00+01:00</th>\n",
       "      <td>38.420856</td>\n",
       "      <td>42.0</td>\n",
       "      <td>17.456968</td>\n",
       "      <td>97.877824</td>\n",
       "    </tr>\n",
       "    <tr>\n",
       "      <th>2000-01-03 16:00:00+01:00</th>\n",
       "      <td>0.000000</td>\n",
       "      <td>9.5</td>\n",
       "      <td>3.800000</td>\n",
       "      <td>13.300000</td>\n",
       "    </tr>\n",
       "    <tr>\n",
       "      <th>...</th>\n",
       "      <td>...</td>\n",
       "      <td>...</td>\n",
       "      <td>...</td>\n",
       "      <td>...</td>\n",
       "    </tr>\n",
       "    <tr>\n",
       "      <th>2000-02-05 14:00:00+01:00</th>\n",
       "      <td>366.835007</td>\n",
       "      <td>63.0</td>\n",
       "      <td>55.437685</td>\n",
       "      <td>485.272692</td>\n",
       "    </tr>\n",
       "    <tr>\n",
       "      <th>2000-02-05 15:00:00+01:00</th>\n",
       "      <td>206.374750</td>\n",
       "      <td>54.5</td>\n",
       "      <td>32.485083</td>\n",
       "      <td>293.359833</td>\n",
       "    </tr>\n",
       "    <tr>\n",
       "      <th>2000-02-05 16:00:00+01:00</th>\n",
       "      <td>51.032277</td>\n",
       "      <td>39.5</td>\n",
       "      <td>15.800272</td>\n",
       "      <td>106.332549</td>\n",
       "    </tr>\n",
       "    <tr>\n",
       "      <th>2000-02-05 17:00:00+01:00</th>\n",
       "      <td>0.000000</td>\n",
       "      <td>6.0</td>\n",
       "      <td>2.400000</td>\n",
       "      <td>8.400000</td>\n",
       "    </tr>\n",
       "    <tr>\n",
       "      <th>2000-02-05 18:00:00+01:00</th>\n",
       "      <td>0.000000</td>\n",
       "      <td>0.0</td>\n",
       "      <td>0.000000</td>\n",
       "      <td>0.000000</td>\n",
       "    </tr>\n",
       "  </tbody>\n",
       "</table>\n",
       "<p>799 rows × 4 columns</p>\n",
       "</div>"
      ],
      "text/plain": [
       "                               direct  diffuse  reflected        Φtot\n",
       "2000-01-03 12:00:00+01:00    5.423683     66.5  27.025936   98.949619\n",
       "2000-01-03 13:00:00+01:00   62.074669     75.0  34.289730  171.364399\n",
       "2000-01-03 14:00:00+01:00   66.175859     67.5  30.353167  164.029026\n",
       "2000-01-03 15:00:00+01:00   38.420856     42.0  17.456968   97.877824\n",
       "2000-01-03 16:00:00+01:00    0.000000      9.5   3.800000   13.300000\n",
       "...                               ...      ...        ...         ...\n",
       "2000-02-05 14:00:00+01:00  366.835007     63.0  55.437685  485.272692\n",
       "2000-02-05 15:00:00+01:00  206.374750     54.5  32.485083  293.359833\n",
       "2000-02-05 16:00:00+01:00   51.032277     39.5  15.800272  106.332549\n",
       "2000-02-05 17:00:00+01:00    0.000000      6.0   2.400000    8.400000\n",
       "2000-02-05 18:00:00+01:00    0.000000      0.0   0.000000    0.000000\n",
       "\n",
       "[799 rows x 4 columns]"
      ]
     },
     "execution_count": 46,
     "metadata": {},
     "output_type": "execute_result"
    }
   ],
   "source": [
    "rad_surf['Φtot'] = rad_surf.sum(axis=1)\n",
    "\n",
    "pd.DataFrame(rad_surf)\n"
   ]
  },
  {
   "attachments": {},
   "cell_type": "markdown",
   "metadata": {},
   "source": [
    "##### Resample the weather data"
   ]
  },
  {
   "cell_type": "code",
   "execution_count": 47,
   "metadata": {},
   "outputs": [
    {
     "data": {
      "text/html": [
       "<div>\n",
       "<style scoped>\n",
       "    .dataframe tbody tr th:only-of-type {\n",
       "        vertical-align: middle;\n",
       "    }\n",
       "\n",
       "    .dataframe tbody tr th {\n",
       "        vertical-align: top;\n",
       "    }\n",
       "\n",
       "    .dataframe thead th {\n",
       "        text-align: right;\n",
       "    }\n",
       "</style>\n",
       "<table border=\"1\" class=\"dataframe\">\n",
       "  <thead>\n",
       "    <tr style=\"text-align: right;\">\n",
       "      <th></th>\n",
       "      <th>To</th>\n",
       "      <th>Φtot</th>\n",
       "    </tr>\n",
       "  </thead>\n",
       "  <tbody>\n",
       "    <tr>\n",
       "      <th>2000-01-03 12:00:00+01:00</th>\n",
       "      <td>6.800000</td>\n",
       "      <td>98.949619</td>\n",
       "    </tr>\n",
       "    <tr>\n",
       "      <th>2000-01-03 12:05:00+01:00</th>\n",
       "      <td>6.900000</td>\n",
       "      <td>104.984184</td>\n",
       "    </tr>\n",
       "    <tr>\n",
       "      <th>2000-01-03 12:10:00+01:00</th>\n",
       "      <td>7.000000</td>\n",
       "      <td>111.018749</td>\n",
       "    </tr>\n",
       "    <tr>\n",
       "      <th>2000-01-03 12:15:00+01:00</th>\n",
       "      <td>7.100000</td>\n",
       "      <td>117.053314</td>\n",
       "    </tr>\n",
       "    <tr>\n",
       "      <th>2000-01-03 12:20:00+01:00</th>\n",
       "      <td>7.200000</td>\n",
       "      <td>123.087879</td>\n",
       "    </tr>\n",
       "    <tr>\n",
       "      <th>...</th>\n",
       "      <td>...</td>\n",
       "      <td>...</td>\n",
       "    </tr>\n",
       "    <tr>\n",
       "      <th>2000-02-05 17:40:00+01:00</th>\n",
       "      <td>8.866667</td>\n",
       "      <td>2.800000</td>\n",
       "    </tr>\n",
       "    <tr>\n",
       "      <th>2000-02-05 17:45:00+01:00</th>\n",
       "      <td>8.725000</td>\n",
       "      <td>2.100000</td>\n",
       "    </tr>\n",
       "    <tr>\n",
       "      <th>2000-02-05 17:50:00+01:00</th>\n",
       "      <td>8.583333</td>\n",
       "      <td>1.400000</td>\n",
       "    </tr>\n",
       "    <tr>\n",
       "      <th>2000-02-05 17:55:00+01:00</th>\n",
       "      <td>8.441667</td>\n",
       "      <td>0.700000</td>\n",
       "    </tr>\n",
       "    <tr>\n",
       "      <th>2000-02-05 18:00:00+01:00</th>\n",
       "      <td>8.300000</td>\n",
       "      <td>0.000000</td>\n",
       "    </tr>\n",
       "  </tbody>\n",
       "</table>\n",
       "<p>9577 rows × 2 columns</p>\n",
       "</div>"
      ],
      "text/plain": [
       "                                 To        Φtot\n",
       "2000-01-03 12:00:00+01:00  6.800000   98.949619\n",
       "2000-01-03 12:05:00+01:00  6.900000  104.984184\n",
       "2000-01-03 12:10:00+01:00  7.000000  111.018749\n",
       "2000-01-03 12:15:00+01:00  7.100000  117.053314\n",
       "2000-01-03 12:20:00+01:00  7.200000  123.087879\n",
       "...                             ...         ...\n",
       "2000-02-05 17:40:00+01:00  8.866667    2.800000\n",
       "2000-02-05 17:45:00+01:00  8.725000    2.100000\n",
       "2000-02-05 17:50:00+01:00  8.583333    1.400000\n",
       "2000-02-05 17:55:00+01:00  8.441667    0.700000\n",
       "2000-02-05 18:00:00+01:00  8.300000    0.000000\n",
       "\n",
       "[9577 rows x 2 columns]"
      ]
     },
     "execution_count": 47,
     "metadata": {},
     "output_type": "execute_result"
    }
   ],
   "source": [
    "# resample weather data\n",
    "data = pd.concat([weather['temp_air'], rad_surf['Φtot']], axis=1)\n",
    "data = data.resample(str(dt) + 'S').interpolate(method='linear')\n",
    "data = data.rename(columns={'temp_air': 'To'})\n",
    "\n",
    "pd.DataFrame(data)"
   ]
  },
  {
   "attachments": {},
   "cell_type": "markdown",
   "metadata": {},
   "source": [
    "##### Other inputs"
   ]
  },
  {
   "cell_type": "code",
   "execution_count": 48,
   "metadata": {},
   "outputs": [
    {
     "data": {
      "text/html": [
       "<div>\n",
       "<style scoped>\n",
       "    .dataframe tbody tr th:only-of-type {\n",
       "        vertical-align: middle;\n",
       "    }\n",
       "\n",
       "    .dataframe tbody tr th {\n",
       "        vertical-align: top;\n",
       "    }\n",
       "\n",
       "    .dataframe thead th {\n",
       "        text-align: right;\n",
       "    }\n",
       "</style>\n",
       "<table border=\"1\" class=\"dataframe\">\n",
       "  <thead>\n",
       "    <tr style=\"text-align: right;\">\n",
       "      <th></th>\n",
       "      <th>To</th>\n",
       "      <th>Φtot</th>\n",
       "      <th>Ti</th>\n",
       "      <th>Qa</th>\n",
       "    </tr>\n",
       "  </thead>\n",
       "  <tbody>\n",
       "    <tr>\n",
       "      <th>2000-01-03 12:00:00+01:00</th>\n",
       "      <td>6.800000</td>\n",
       "      <td>98.949619</td>\n",
       "      <td>20.0</td>\n",
       "      <td>0.0</td>\n",
       "    </tr>\n",
       "    <tr>\n",
       "      <th>2000-01-03 12:05:00+01:00</th>\n",
       "      <td>6.900000</td>\n",
       "      <td>104.984184</td>\n",
       "      <td>20.0</td>\n",
       "      <td>0.0</td>\n",
       "    </tr>\n",
       "    <tr>\n",
       "      <th>2000-01-03 12:10:00+01:00</th>\n",
       "      <td>7.000000</td>\n",
       "      <td>111.018749</td>\n",
       "      <td>20.0</td>\n",
       "      <td>0.0</td>\n",
       "    </tr>\n",
       "    <tr>\n",
       "      <th>2000-01-03 12:15:00+01:00</th>\n",
       "      <td>7.100000</td>\n",
       "      <td>117.053314</td>\n",
       "      <td>20.0</td>\n",
       "      <td>0.0</td>\n",
       "    </tr>\n",
       "    <tr>\n",
       "      <th>2000-01-03 12:20:00+01:00</th>\n",
       "      <td>7.200000</td>\n",
       "      <td>123.087879</td>\n",
       "      <td>20.0</td>\n",
       "      <td>0.0</td>\n",
       "    </tr>\n",
       "    <tr>\n",
       "      <th>...</th>\n",
       "      <td>...</td>\n",
       "      <td>...</td>\n",
       "      <td>...</td>\n",
       "      <td>...</td>\n",
       "    </tr>\n",
       "    <tr>\n",
       "      <th>2000-02-05 17:40:00+01:00</th>\n",
       "      <td>8.866667</td>\n",
       "      <td>2.800000</td>\n",
       "      <td>20.0</td>\n",
       "      <td>0.0</td>\n",
       "    </tr>\n",
       "    <tr>\n",
       "      <th>2000-02-05 17:45:00+01:00</th>\n",
       "      <td>8.725000</td>\n",
       "      <td>2.100000</td>\n",
       "      <td>20.0</td>\n",
       "      <td>0.0</td>\n",
       "    </tr>\n",
       "    <tr>\n",
       "      <th>2000-02-05 17:50:00+01:00</th>\n",
       "      <td>8.583333</td>\n",
       "      <td>1.400000</td>\n",
       "      <td>20.0</td>\n",
       "      <td>0.0</td>\n",
       "    </tr>\n",
       "    <tr>\n",
       "      <th>2000-02-05 17:55:00+01:00</th>\n",
       "      <td>8.441667</td>\n",
       "      <td>0.700000</td>\n",
       "      <td>20.0</td>\n",
       "      <td>0.0</td>\n",
       "    </tr>\n",
       "    <tr>\n",
       "      <th>2000-02-05 18:00:00+01:00</th>\n",
       "      <td>8.300000</td>\n",
       "      <td>0.000000</td>\n",
       "      <td>20.0</td>\n",
       "      <td>0.0</td>\n",
       "    </tr>\n",
       "  </tbody>\n",
       "</table>\n",
       "<p>9577 rows × 4 columns</p>\n",
       "</div>"
      ],
      "text/plain": [
       "                                 To        Φtot    Ti   Qa\n",
       "2000-01-03 12:00:00+01:00  6.800000   98.949619  20.0  0.0\n",
       "2000-01-03 12:05:00+01:00  6.900000  104.984184  20.0  0.0\n",
       "2000-01-03 12:10:00+01:00  7.000000  111.018749  20.0  0.0\n",
       "2000-01-03 12:15:00+01:00  7.100000  117.053314  20.0  0.0\n",
       "2000-01-03 12:20:00+01:00  7.200000  123.087879  20.0  0.0\n",
       "...                             ...         ...   ...  ...\n",
       "2000-02-05 17:40:00+01:00  8.866667    2.800000  20.0  0.0\n",
       "2000-02-05 17:45:00+01:00  8.725000    2.100000  20.0  0.0\n",
       "2000-02-05 17:50:00+01:00  8.583333    1.400000  20.0  0.0\n",
       "2000-02-05 17:55:00+01:00  8.441667    0.700000  20.0  0.0\n",
       "2000-02-05 18:00:00+01:00  8.300000    0.000000  20.0  0.0\n",
       "\n",
       "[9577 rows x 4 columns]"
      ]
     },
     "execution_count": 48,
     "metadata": {},
     "output_type": "execute_result"
    }
   ],
   "source": [
    "data['Ti'] = 20 * np.ones(data.shape[0])\n",
    "data['Qa'] = 0 * np.ones(data.shape[0])\n",
    "\n",
    "pd.DataFrame(data)"
   ]
  },
  {
   "attachments": {},
   "cell_type": "markdown",
   "metadata": {},
   "source": [
    "##### Input vector in time"
   ]
  },
  {
   "cell_type": "code",
   "execution_count": 49,
   "metadata": {},
   "outputs": [
    {
     "data": {
      "text/html": [
       "<div>\n",
       "<style scoped>\n",
       "    .dataframe tbody tr th:only-of-type {\n",
       "        vertical-align: middle;\n",
       "    }\n",
       "\n",
       "    .dataframe tbody tr th {\n",
       "        vertical-align: top;\n",
       "    }\n",
       "\n",
       "    .dataframe thead th {\n",
       "        text-align: right;\n",
       "    }\n",
       "</style>\n",
       "<table border=\"1\" class=\"dataframe\">\n",
       "  <thead>\n",
       "    <tr style=\"text-align: right;\">\n",
       "      <th></th>\n",
       "      <th>To</th>\n",
       "      <th>To</th>\n",
       "      <th>To</th>\n",
       "      <th>Ti</th>\n",
       "      <th>To</th>\n",
       "      <th>Φo</th>\n",
       "      <th>Φi</th>\n",
       "      <th>Φa</th>\n",
       "    </tr>\n",
       "  </thead>\n",
       "  <tbody>\n",
       "    <tr>\n",
       "      <th>2000-01-03 12:00:00+01:00</th>\n",
       "      <td>6.800000</td>\n",
       "      <td>6.800000</td>\n",
       "      <td>6.800000</td>\n",
       "      <td>20.0</td>\n",
       "      <td>6.800000</td>\n",
       "      <td>3092.175597</td>\n",
       "      <td>74.212214</td>\n",
       "      <td>376.008553</td>\n",
       "    </tr>\n",
       "    <tr>\n",
       "      <th>2000-01-03 12:05:00+01:00</th>\n",
       "      <td>6.900000</td>\n",
       "      <td>6.900000</td>\n",
       "      <td>6.900000</td>\n",
       "      <td>20.0</td>\n",
       "      <td>6.900000</td>\n",
       "      <td>3280.755753</td>\n",
       "      <td>78.738138</td>\n",
       "      <td>398.939900</td>\n",
       "    </tr>\n",
       "    <tr>\n",
       "      <th>2000-01-03 12:10:00+01:00</th>\n",
       "      <td>7.000000</td>\n",
       "      <td>7.000000</td>\n",
       "      <td>7.000000</td>\n",
       "      <td>20.0</td>\n",
       "      <td>7.000000</td>\n",
       "      <td>3469.335910</td>\n",
       "      <td>83.264062</td>\n",
       "      <td>421.871247</td>\n",
       "    </tr>\n",
       "    <tr>\n",
       "      <th>2000-01-03 12:15:00+01:00</th>\n",
       "      <td>7.100000</td>\n",
       "      <td>7.100000</td>\n",
       "      <td>7.100000</td>\n",
       "      <td>20.0</td>\n",
       "      <td>7.100000</td>\n",
       "      <td>3657.916066</td>\n",
       "      <td>87.789986</td>\n",
       "      <td>444.802594</td>\n",
       "    </tr>\n",
       "    <tr>\n",
       "      <th>2000-01-03 12:20:00+01:00</th>\n",
       "      <td>7.200000</td>\n",
       "      <td>7.200000</td>\n",
       "      <td>7.200000</td>\n",
       "      <td>20.0</td>\n",
       "      <td>7.200000</td>\n",
       "      <td>3846.496222</td>\n",
       "      <td>92.315909</td>\n",
       "      <td>467.733941</td>\n",
       "    </tr>\n",
       "    <tr>\n",
       "      <th>...</th>\n",
       "      <td>...</td>\n",
       "      <td>...</td>\n",
       "      <td>...</td>\n",
       "      <td>...</td>\n",
       "      <td>...</td>\n",
       "      <td>...</td>\n",
       "      <td>...</td>\n",
       "      <td>...</td>\n",
       "    </tr>\n",
       "    <tr>\n",
       "      <th>2000-02-05 17:40:00+01:00</th>\n",
       "      <td>8.866667</td>\n",
       "      <td>8.866667</td>\n",
       "      <td>8.866667</td>\n",
       "      <td>20.0</td>\n",
       "      <td>8.866667</td>\n",
       "      <td>87.500000</td>\n",
       "      <td>2.100000</td>\n",
       "      <td>10.640000</td>\n",
       "    </tr>\n",
       "    <tr>\n",
       "      <th>2000-02-05 17:45:00+01:00</th>\n",
       "      <td>8.725000</td>\n",
       "      <td>8.725000</td>\n",
       "      <td>8.725000</td>\n",
       "      <td>20.0</td>\n",
       "      <td>8.725000</td>\n",
       "      <td>65.625000</td>\n",
       "      <td>1.575000</td>\n",
       "      <td>7.980000</td>\n",
       "    </tr>\n",
       "    <tr>\n",
       "      <th>2000-02-05 17:50:00+01:00</th>\n",
       "      <td>8.583333</td>\n",
       "      <td>8.583333</td>\n",
       "      <td>8.583333</td>\n",
       "      <td>20.0</td>\n",
       "      <td>8.583333</td>\n",
       "      <td>43.750000</td>\n",
       "      <td>1.050000</td>\n",
       "      <td>5.320000</td>\n",
       "    </tr>\n",
       "    <tr>\n",
       "      <th>2000-02-05 17:55:00+01:00</th>\n",
       "      <td>8.441667</td>\n",
       "      <td>8.441667</td>\n",
       "      <td>8.441667</td>\n",
       "      <td>20.0</td>\n",
       "      <td>8.441667</td>\n",
       "      <td>21.875000</td>\n",
       "      <td>0.525000</td>\n",
       "      <td>2.660000</td>\n",
       "    </tr>\n",
       "    <tr>\n",
       "      <th>2000-02-05 18:00:00+01:00</th>\n",
       "      <td>8.300000</td>\n",
       "      <td>8.300000</td>\n",
       "      <td>8.300000</td>\n",
       "      <td>20.0</td>\n",
       "      <td>8.300000</td>\n",
       "      <td>0.000000</td>\n",
       "      <td>0.000000</td>\n",
       "      <td>0.000000</td>\n",
       "    </tr>\n",
       "  </tbody>\n",
       "</table>\n",
       "<p>9577 rows × 8 columns</p>\n",
       "</div>"
      ],
      "text/plain": [
       "                                 To        To        To    Ti        To   \n",
       "2000-01-03 12:00:00+01:00  6.800000  6.800000  6.800000  20.0  6.800000  \\\n",
       "2000-01-03 12:05:00+01:00  6.900000  6.900000  6.900000  20.0  6.900000   \n",
       "2000-01-03 12:10:00+01:00  7.000000  7.000000  7.000000  20.0  7.000000   \n",
       "2000-01-03 12:15:00+01:00  7.100000  7.100000  7.100000  20.0  7.100000   \n",
       "2000-01-03 12:20:00+01:00  7.200000  7.200000  7.200000  20.0  7.200000   \n",
       "...                             ...       ...       ...   ...       ...   \n",
       "2000-02-05 17:40:00+01:00  8.866667  8.866667  8.866667  20.0  8.866667   \n",
       "2000-02-05 17:45:00+01:00  8.725000  8.725000  8.725000  20.0  8.725000   \n",
       "2000-02-05 17:50:00+01:00  8.583333  8.583333  8.583333  20.0  8.583333   \n",
       "2000-02-05 17:55:00+01:00  8.441667  8.441667  8.441667  20.0  8.441667   \n",
       "2000-02-05 18:00:00+01:00  8.300000  8.300000  8.300000  20.0  8.300000   \n",
       "\n",
       "                                    Φo         Φi          Φa  \n",
       "2000-01-03 12:00:00+01:00  3092.175597  74.212214  376.008553  \n",
       "2000-01-03 12:05:00+01:00  3280.755753  78.738138  398.939900  \n",
       "2000-01-03 12:10:00+01:00  3469.335910  83.264062  421.871247  \n",
       "2000-01-03 12:15:00+01:00  3657.916066  87.789986  444.802594  \n",
       "2000-01-03 12:20:00+01:00  3846.496222  92.315909  467.733941  \n",
       "...                                ...        ...         ...  \n",
       "2000-02-05 17:40:00+01:00    87.500000   2.100000   10.640000  \n",
       "2000-02-05 17:45:00+01:00    65.625000   1.575000    7.980000  \n",
       "2000-02-05 17:50:00+01:00    43.750000   1.050000    5.320000  \n",
       "2000-02-05 17:55:00+01:00    21.875000   0.525000    2.660000  \n",
       "2000-02-05 18:00:00+01:00     0.000000   0.000000    0.000000  \n",
       "\n",
       "[9577 rows x 8 columns]"
      ]
     },
     "execution_count": 49,
     "metadata": {},
     "output_type": "execute_result"
    }
   ],
   "source": [
    "# input vector\n",
    "To = data['To']\n",
    "Ti = data['Ti']\n",
    "Φo = α_wSW * Swall_out * data['Φtot']\n",
    "Φi = τ_gSW * α_wSW * Sgw * data['Φtot']\n",
    "Φa = α_gSW * Sgw * data['Φtot']\n",
    "\n",
    "u = pd.concat([To, To, To, Ti, To, Φo, Φi, Φa], axis=1)\n",
    "u.columns.values[[5, 6, 7]] = ['Φo', 'Φi', 'Φa']\n",
    "\n",
    "pd.DataFrame(u)"
   ]
  },
  {
   "attachments": {},
   "cell_type": "markdown",
   "metadata": {},
   "source": [
    "#### c. Initial conditions"
   ]
  },
  {
   "cell_type": "code",
   "execution_count": 50,
   "metadata": {},
   "outputs": [],
   "source": [
    "θ_exp = 20 * np.ones([As.shape[0], u.shape[0]])\n"
   ]
  },
  {
   "attachments": {},
   "cell_type": "markdown",
   "metadata": {},
   "source": [
    "#### d. Time integration"
   ]
  },
  {
   "cell_type": "code",
   "execution_count": 51,
   "metadata": {},
   "outputs": [
    {
     "data": {
      "text/html": [
       "<div>\n",
       "<style scoped>\n",
       "    .dataframe tbody tr th:only-of-type {\n",
       "        vertical-align: middle;\n",
       "    }\n",
       "\n",
       "    .dataframe tbody tr th {\n",
       "        vertical-align: top;\n",
       "    }\n",
       "\n",
       "    .dataframe thead th {\n",
       "        text-align: right;\n",
       "    }\n",
       "</style>\n",
       "<table border=\"1\" class=\"dataframe\">\n",
       "  <thead>\n",
       "    <tr style=\"text-align: right;\">\n",
       "      <th></th>\n",
       "      <th>0</th>\n",
       "      <th>1</th>\n",
       "      <th>2</th>\n",
       "      <th>3</th>\n",
       "      <th>4</th>\n",
       "      <th>5</th>\n",
       "      <th>6</th>\n",
       "      <th>7</th>\n",
       "      <th>8</th>\n",
       "      <th>9</th>\n",
       "      <th>...</th>\n",
       "      <th>9567</th>\n",
       "      <th>9568</th>\n",
       "      <th>9569</th>\n",
       "      <th>9570</th>\n",
       "      <th>9571</th>\n",
       "      <th>9572</th>\n",
       "      <th>9573</th>\n",
       "      <th>9574</th>\n",
       "      <th>9575</th>\n",
       "      <th>9576</th>\n",
       "    </tr>\n",
       "  </thead>\n",
       "  <tbody>\n",
       "    <tr>\n",
       "      <th>0</th>\n",
       "      <td>20.0</td>\n",
       "      <td>19.537584</td>\n",
       "      <td>19.216577</td>\n",
       "      <td>19.008759</td>\n",
       "      <td>18.892708</td>\n",
       "      <td>18.851039</td>\n",
       "      <td>18.869815</td>\n",
       "      <td>18.937653</td>\n",
       "      <td>19.045434</td>\n",
       "      <td>19.185701</td>\n",
       "      <td>...</td>\n",
       "      <td>14.454838</td>\n",
       "      <td>14.176395</td>\n",
       "      <td>13.927833</td>\n",
       "      <td>13.703468</td>\n",
       "      <td>13.498682</td>\n",
       "      <td>13.309730</td>\n",
       "      <td>13.133567</td>\n",
       "      <td>12.967725</td>\n",
       "      <td>12.810197</td>\n",
       "      <td>12.659358</td>\n",
       "    </tr>\n",
       "    <tr>\n",
       "      <th>1</th>\n",
       "      <td>20.0</td>\n",
       "      <td>19.985306</td>\n",
       "      <td>19.951812</td>\n",
       "      <td>19.915696</td>\n",
       "      <td>19.877277</td>\n",
       "      <td>19.838630</td>\n",
       "      <td>19.799197</td>\n",
       "      <td>19.760412</td>\n",
       "      <td>19.721798</td>\n",
       "      <td>19.684379</td>\n",
       "      <td>...</td>\n",
       "      <td>15.820431</td>\n",
       "      <td>15.782599</td>\n",
       "      <td>15.743789</td>\n",
       "      <td>15.703999</td>\n",
       "      <td>15.663335</td>\n",
       "      <td>15.621793</td>\n",
       "      <td>15.579449</td>\n",
       "      <td>15.536295</td>\n",
       "      <td>15.492389</td>\n",
       "      <td>15.447724</td>\n",
       "    </tr>\n",
       "    <tr>\n",
       "      <th>2</th>\n",
       "      <td>20.0</td>\n",
       "      <td>18.033459</td>\n",
       "      <td>17.691426</td>\n",
       "      <td>17.360794</td>\n",
       "      <td>17.226858</td>\n",
       "      <td>17.023276</td>\n",
       "      <td>16.956957</td>\n",
       "      <td>16.834587</td>\n",
       "      <td>16.811891</td>\n",
       "      <td>16.745015</td>\n",
       "      <td>...</td>\n",
       "      <td>13.237582</td>\n",
       "      <td>13.163148</td>\n",
       "      <td>13.082477</td>\n",
       "      <td>13.007680</td>\n",
       "      <td>12.928027</td>\n",
       "      <td>12.852593</td>\n",
       "      <td>12.773372</td>\n",
       "      <td>12.697159</td>\n",
       "      <td>12.617979</td>\n",
       "      <td>12.540917</td>\n",
       "    </tr>\n",
       "    <tr>\n",
       "      <th>3</th>\n",
       "      <td>20.0</td>\n",
       "      <td>18.900000</td>\n",
       "      <td>18.134614</td>\n",
       "      <td>17.752208</td>\n",
       "      <td>17.273513</td>\n",
       "      <td>17.046616</td>\n",
       "      <td>16.737552</td>\n",
       "      <td>16.609713</td>\n",
       "      <td>16.414951</td>\n",
       "      <td>16.351210</td>\n",
       "      <td>...</td>\n",
       "      <td>12.390816</td>\n",
       "      <td>12.307086</td>\n",
       "      <td>12.234266</td>\n",
       "      <td>12.153911</td>\n",
       "      <td>12.081449</td>\n",
       "      <td>12.003131</td>\n",
       "      <td>11.930515</td>\n",
       "      <td>11.853346</td>\n",
       "      <td>11.780281</td>\n",
       "      <td>11.703670</td>\n",
       "    </tr>\n",
       "    <tr>\n",
       "      <th>4</th>\n",
       "      <td>20.0</td>\n",
       "      <td>20.000000</td>\n",
       "      <td>19.381021</td>\n",
       "      <td>18.736063</td>\n",
       "      <td>18.296912</td>\n",
       "      <td>17.874729</td>\n",
       "      <td>17.599615</td>\n",
       "      <td>17.329145</td>\n",
       "      <td>17.161923</td>\n",
       "      <td>16.992788</td>\n",
       "      <td>...</td>\n",
       "      <td>11.926924</td>\n",
       "      <td>11.860731</td>\n",
       "      <td>11.791572</td>\n",
       "      <td>11.727477</td>\n",
       "      <td>11.660871</td>\n",
       "      <td>11.597794</td>\n",
       "      <td>11.532619</td>\n",
       "      <td>11.469887</td>\n",
       "      <td>11.405413</td>\n",
       "      <td>11.342609</td>\n",
       "    </tr>\n",
       "    <tr>\n",
       "      <th>5</th>\n",
       "      <td>20.0</td>\n",
       "      <td>19.979745</td>\n",
       "      <td>19.959705</td>\n",
       "      <td>19.938926</td>\n",
       "      <td>19.917371</td>\n",
       "      <td>19.895358</td>\n",
       "      <td>19.872916</td>\n",
       "      <td>19.850273</td>\n",
       "      <td>19.827435</td>\n",
       "      <td>19.804564</td>\n",
       "      <td>...</td>\n",
       "      <td>8.445183</td>\n",
       "      <td>8.452284</td>\n",
       "      <td>8.459043</td>\n",
       "      <td>8.465457</td>\n",
       "      <td>8.471535</td>\n",
       "      <td>8.477275</td>\n",
       "      <td>8.482682</td>\n",
       "      <td>8.487755</td>\n",
       "      <td>8.492498</td>\n",
       "      <td>8.496910</td>\n",
       "    </tr>\n",
       "  </tbody>\n",
       "</table>\n",
       "<p>6 rows × 9577 columns</p>\n",
       "</div>"
      ],
      "text/plain": [
       "   0          1          2          3          4          5          6      \n",
       "0  20.0  19.537584  19.216577  19.008759  18.892708  18.851039  18.869815  \\\n",
       "1  20.0  19.985306  19.951812  19.915696  19.877277  19.838630  19.799197   \n",
       "2  20.0  18.033459  17.691426  17.360794  17.226858  17.023276  16.956957   \n",
       "3  20.0  18.900000  18.134614  17.752208  17.273513  17.046616  16.737552   \n",
       "4  20.0  20.000000  19.381021  18.736063  18.296912  17.874729  17.599615   \n",
       "5  20.0  19.979745  19.959705  19.938926  19.917371  19.895358  19.872916   \n",
       "\n",
       "        7          8          9     ...       9567       9568       9569   \n",
       "0  18.937653  19.045434  19.185701  ...  14.454838  14.176395  13.927833  \\\n",
       "1  19.760412  19.721798  19.684379  ...  15.820431  15.782599  15.743789   \n",
       "2  16.834587  16.811891  16.745015  ...  13.237582  13.163148  13.082477   \n",
       "3  16.609713  16.414951  16.351210  ...  12.390816  12.307086  12.234266   \n",
       "4  17.329145  17.161923  16.992788  ...  11.926924  11.860731  11.791572   \n",
       "5  19.850273  19.827435  19.804564  ...   8.445183   8.452284   8.459043   \n",
       "\n",
       "        9570       9571       9572       9573       9574       9575       9576  \n",
       "0  13.703468  13.498682  13.309730  13.133567  12.967725  12.810197  12.659358  \n",
       "1  15.703999  15.663335  15.621793  15.579449  15.536295  15.492389  15.447724  \n",
       "2  13.007680  12.928027  12.852593  12.773372  12.697159  12.617979  12.540917  \n",
       "3  12.153911  12.081449  12.003131  11.930515  11.853346  11.780281  11.703670  \n",
       "4  11.727477  11.660871  11.597794  11.532619  11.469887  11.405413  11.342609  \n",
       "5   8.465457   8.471535   8.477275   8.482682   8.487755   8.492498   8.496910  \n",
       "\n",
       "[6 rows x 9577 columns]"
      ]
     },
     "execution_count": 51,
     "metadata": {},
     "output_type": "execute_result"
    }
   ],
   "source": [
    "for k in range(u.shape[0] - 1 ):\n",
    "    θ_exp[:, k + 1] = (I + dt * As) @ θ_exp[:, k]\\\n",
    "        + dt * Bs @ u.iloc[k, :]\n",
    "\n",
    "pd.DataFrame(θ_exp)"
   ]
  },
  {
   "cell_type": "code",
   "execution_count": 52,
   "metadata": {},
   "outputs": [
    {
     "data": {
      "text/html": [
       "<div>\n",
       "<style scoped>\n",
       "    .dataframe tbody tr th:only-of-type {\n",
       "        vertical-align: middle;\n",
       "    }\n",
       "\n",
       "    .dataframe tbody tr th {\n",
       "        vertical-align: top;\n",
       "    }\n",
       "\n",
       "    .dataframe thead th {\n",
       "        text-align: right;\n",
       "    }\n",
       "</style>\n",
       "<table border=\"1\" class=\"dataframe\">\n",
       "  <thead>\n",
       "    <tr style=\"text-align: right;\">\n",
       "      <th></th>\n",
       "      <th>0</th>\n",
       "      <th>1</th>\n",
       "      <th>2</th>\n",
       "      <th>3</th>\n",
       "      <th>4</th>\n",
       "      <th>5</th>\n",
       "      <th>6</th>\n",
       "      <th>7</th>\n",
       "      <th>8</th>\n",
       "      <th>9</th>\n",
       "      <th>...</th>\n",
       "      <th>9567</th>\n",
       "      <th>9568</th>\n",
       "      <th>9569</th>\n",
       "      <th>9570</th>\n",
       "      <th>9571</th>\n",
       "      <th>9572</th>\n",
       "      <th>9573</th>\n",
       "      <th>9574</th>\n",
       "      <th>9575</th>\n",
       "      <th>9576</th>\n",
       "    </tr>\n",
       "  </thead>\n",
       "  <tbody>\n",
       "    <tr>\n",
       "      <th>0</th>\n",
       "      <td>20.0</td>\n",
       "      <td>18.033459</td>\n",
       "      <td>17.691426</td>\n",
       "      <td>17.360794</td>\n",
       "      <td>17.226858</td>\n",
       "      <td>17.023276</td>\n",
       "      <td>16.956957</td>\n",
       "      <td>16.834587</td>\n",
       "      <td>16.811891</td>\n",
       "      <td>16.745015</td>\n",
       "      <td>...</td>\n",
       "      <td>13.237582</td>\n",
       "      <td>13.163148</td>\n",
       "      <td>13.082477</td>\n",
       "      <td>13.007680</td>\n",
       "      <td>12.928027</td>\n",
       "      <td>12.852593</td>\n",
       "      <td>12.773372</td>\n",
       "      <td>12.697159</td>\n",
       "      <td>12.617979</td>\n",
       "      <td>12.540917</td>\n",
       "    </tr>\n",
       "    <tr>\n",
       "      <th>1</th>\n",
       "      <td>20.0</td>\n",
       "      <td>18.900000</td>\n",
       "      <td>18.134614</td>\n",
       "      <td>17.752208</td>\n",
       "      <td>17.273513</td>\n",
       "      <td>17.046616</td>\n",
       "      <td>16.737552</td>\n",
       "      <td>16.609713</td>\n",
       "      <td>16.414951</td>\n",
       "      <td>16.351210</td>\n",
       "      <td>...</td>\n",
       "      <td>12.390816</td>\n",
       "      <td>12.307086</td>\n",
       "      <td>12.234266</td>\n",
       "      <td>12.153911</td>\n",
       "      <td>12.081449</td>\n",
       "      <td>12.003131</td>\n",
       "      <td>11.930515</td>\n",
       "      <td>11.853346</td>\n",
       "      <td>11.780281</td>\n",
       "      <td>11.703670</td>\n",
       "    </tr>\n",
       "  </tbody>\n",
       "</table>\n",
       "<p>2 rows × 9577 columns</p>\n",
       "</div>"
      ],
      "text/plain": [
       "   0          1          2          3          4          5          6      \n",
       "0  20.0  18.033459  17.691426  17.360794  17.226858  17.023276  16.956957  \\\n",
       "1  20.0  18.900000  18.134614  17.752208  17.273513  17.046616  16.737552   \n",
       "\n",
       "        7          8          9     ...       9567       9568       9569   \n",
       "0  16.834587  16.811891  16.745015  ...  13.237582  13.163148  13.082477  \\\n",
       "1  16.609713  16.414951  16.351210  ...  12.390816  12.307086  12.234266   \n",
       "\n",
       "        9570       9571       9572       9573       9574       9575       9576  \n",
       "0  13.007680  12.928027  12.852593  12.773372  12.697159  12.617979  12.540917  \n",
       "1  12.153911  12.081449  12.003131  11.930515  11.853346  11.780281  11.703670  \n",
       "\n",
       "[2 rows x 9577 columns]"
      ]
     },
     "execution_count": 52,
     "metadata": {},
     "output_type": "execute_result"
    }
   ],
   "source": [
    "y_exp = Cs @ θ_exp + Ds @ u.to_numpy().T\n",
    "q_HVAC = Kp * (data['Ti'] - y_exp[0, :])\n",
    "\n",
    "pd.DataFrame(y_exp)"
   ]
  },
  {
   "cell_type": "code",
   "execution_count": 53,
   "metadata": {},
   "outputs": [
    {
     "data": {
      "text/html": [
       "<div>\n",
       "<style scoped>\n",
       "    .dataframe tbody tr th:only-of-type {\n",
       "        vertical-align: middle;\n",
       "    }\n",
       "\n",
       "    .dataframe tbody tr th {\n",
       "        vertical-align: top;\n",
       "    }\n",
       "\n",
       "    .dataframe thead th {\n",
       "        text-align: right;\n",
       "    }\n",
       "</style>\n",
       "<table border=\"1\" class=\"dataframe\">\n",
       "  <thead>\n",
       "    <tr style=\"text-align: right;\">\n",
       "      <th></th>\n",
       "      <th>To</th>\n",
       "      <th>Φtot</th>\n",
       "      <th>Ti</th>\n",
       "      <th>Qa</th>\n",
       "      <th>θi_exp</th>\n",
       "      <th>θibis_exp</th>\n",
       "      <th>q_HVAC</th>\n",
       "    </tr>\n",
       "  </thead>\n",
       "  <tbody>\n",
       "    <tr>\n",
       "      <th>2000-01-03 12:00:00+01:00</th>\n",
       "      <td>6.800000</td>\n",
       "      <td>98.949619</td>\n",
       "      <td>20.0</td>\n",
       "      <td>0.0</td>\n",
       "      <td>20.000000</td>\n",
       "      <td>20.000000</td>\n",
       "      <td>0.0</td>\n",
       "    </tr>\n",
       "    <tr>\n",
       "      <th>2000-01-03 12:05:00+01:00</th>\n",
       "      <td>6.900000</td>\n",
       "      <td>104.984184</td>\n",
       "      <td>20.0</td>\n",
       "      <td>0.0</td>\n",
       "      <td>18.033459</td>\n",
       "      <td>18.900000</td>\n",
       "      <td>0.0</td>\n",
       "    </tr>\n",
       "    <tr>\n",
       "      <th>2000-01-03 12:10:00+01:00</th>\n",
       "      <td>7.000000</td>\n",
       "      <td>111.018749</td>\n",
       "      <td>20.0</td>\n",
       "      <td>0.0</td>\n",
       "      <td>17.691426</td>\n",
       "      <td>18.134614</td>\n",
       "      <td>0.0</td>\n",
       "    </tr>\n",
       "    <tr>\n",
       "      <th>2000-01-03 12:15:00+01:00</th>\n",
       "      <td>7.100000</td>\n",
       "      <td>117.053314</td>\n",
       "      <td>20.0</td>\n",
       "      <td>0.0</td>\n",
       "      <td>17.360794</td>\n",
       "      <td>17.752208</td>\n",
       "      <td>0.0</td>\n",
       "    </tr>\n",
       "    <tr>\n",
       "      <th>2000-01-03 12:20:00+01:00</th>\n",
       "      <td>7.200000</td>\n",
       "      <td>123.087879</td>\n",
       "      <td>20.0</td>\n",
       "      <td>0.0</td>\n",
       "      <td>17.226858</td>\n",
       "      <td>17.273513</td>\n",
       "      <td>0.0</td>\n",
       "    </tr>\n",
       "    <tr>\n",
       "      <th>...</th>\n",
       "      <td>...</td>\n",
       "      <td>...</td>\n",
       "      <td>...</td>\n",
       "      <td>...</td>\n",
       "      <td>...</td>\n",
       "      <td>...</td>\n",
       "      <td>...</td>\n",
       "    </tr>\n",
       "    <tr>\n",
       "      <th>2000-02-05 17:40:00+01:00</th>\n",
       "      <td>8.866667</td>\n",
       "      <td>2.800000</td>\n",
       "      <td>20.0</td>\n",
       "      <td>0.0</td>\n",
       "      <td>12.852593</td>\n",
       "      <td>12.003131</td>\n",
       "      <td>0.0</td>\n",
       "    </tr>\n",
       "    <tr>\n",
       "      <th>2000-02-05 17:45:00+01:00</th>\n",
       "      <td>8.725000</td>\n",
       "      <td>2.100000</td>\n",
       "      <td>20.0</td>\n",
       "      <td>0.0</td>\n",
       "      <td>12.773372</td>\n",
       "      <td>11.930515</td>\n",
       "      <td>0.0</td>\n",
       "    </tr>\n",
       "    <tr>\n",
       "      <th>2000-02-05 17:50:00+01:00</th>\n",
       "      <td>8.583333</td>\n",
       "      <td>1.400000</td>\n",
       "      <td>20.0</td>\n",
       "      <td>0.0</td>\n",
       "      <td>12.697159</td>\n",
       "      <td>11.853346</td>\n",
       "      <td>0.0</td>\n",
       "    </tr>\n",
       "    <tr>\n",
       "      <th>2000-02-05 17:55:00+01:00</th>\n",
       "      <td>8.441667</td>\n",
       "      <td>0.700000</td>\n",
       "      <td>20.0</td>\n",
       "      <td>0.0</td>\n",
       "      <td>12.617979</td>\n",
       "      <td>11.780281</td>\n",
       "      <td>0.0</td>\n",
       "    </tr>\n",
       "    <tr>\n",
       "      <th>2000-02-05 18:00:00+01:00</th>\n",
       "      <td>8.300000</td>\n",
       "      <td>0.000000</td>\n",
       "      <td>20.0</td>\n",
       "      <td>0.0</td>\n",
       "      <td>12.540917</td>\n",
       "      <td>11.703670</td>\n",
       "      <td>0.0</td>\n",
       "    </tr>\n",
       "  </tbody>\n",
       "</table>\n",
       "<p>9577 rows × 7 columns</p>\n",
       "</div>"
      ],
      "text/plain": [
       "                                 To        Φtot    Ti   Qa     θi_exp   \n",
       "2000-01-03 12:00:00+01:00  6.800000   98.949619  20.0  0.0  20.000000  \\\n",
       "2000-01-03 12:05:00+01:00  6.900000  104.984184  20.0  0.0  18.033459   \n",
       "2000-01-03 12:10:00+01:00  7.000000  111.018749  20.0  0.0  17.691426   \n",
       "2000-01-03 12:15:00+01:00  7.100000  117.053314  20.0  0.0  17.360794   \n",
       "2000-01-03 12:20:00+01:00  7.200000  123.087879  20.0  0.0  17.226858   \n",
       "...                             ...         ...   ...  ...        ...   \n",
       "2000-02-05 17:40:00+01:00  8.866667    2.800000  20.0  0.0  12.852593   \n",
       "2000-02-05 17:45:00+01:00  8.725000    2.100000  20.0  0.0  12.773372   \n",
       "2000-02-05 17:50:00+01:00  8.583333    1.400000  20.0  0.0  12.697159   \n",
       "2000-02-05 17:55:00+01:00  8.441667    0.700000  20.0  0.0  12.617979   \n",
       "2000-02-05 18:00:00+01:00  8.300000    0.000000  20.0  0.0  12.540917   \n",
       "\n",
       "                           θibis_exp  q_HVAC  \n",
       "2000-01-03 12:00:00+01:00  20.000000     0.0  \n",
       "2000-01-03 12:05:00+01:00  18.900000     0.0  \n",
       "2000-01-03 12:10:00+01:00  18.134614     0.0  \n",
       "2000-01-03 12:15:00+01:00  17.752208     0.0  \n",
       "2000-01-03 12:20:00+01:00  17.273513     0.0  \n",
       "...                              ...     ...  \n",
       "2000-02-05 17:40:00+01:00  12.003131     0.0  \n",
       "2000-02-05 17:45:00+01:00  11.930515     0.0  \n",
       "2000-02-05 17:50:00+01:00  11.853346     0.0  \n",
       "2000-02-05 17:55:00+01:00  11.780281     0.0  \n",
       "2000-02-05 18:00:00+01:00  11.703670     0.0  \n",
       "\n",
       "[9577 rows x 7 columns]"
      ]
     },
     "execution_count": 53,
     "metadata": {},
     "output_type": "execute_result"
    }
   ],
   "source": [
    "data['θi_exp'] = y_exp[0].T\n",
    "data['θibis_exp'] = y_exp[1].T\n",
    "\n",
    "data['q_HVAC'] = q_HVAC.T\n",
    "\n",
    "pd.DataFrame(data)"
   ]
  },
  {
   "cell_type": "code",
   "execution_count": 54,
   "metadata": {},
   "outputs": [
    {
     "data": {
      "image/png": "[encoded data removed]",
      "text/plain": [
       "<Figure size 640x480 with 2 Axes>"
      ]
     },
     "metadata": {},
     "output_type": "display_data"
    }
   ],
   "source": [
    "fig, axs = plt.subplots(2, 1)\n",
    "\n",
    "data[['To', 'θi_exp','θibis_exp' ]].plot(ax=axs[0],\n",
    "                            xticks=[],\n",
    "                            ylabel='Temperature, $θ$ / °C')\n",
    "axs[0].legend(['$θ_{outdoor}$', '$θ_{room_1}$','$θ_{room_2}$'],\n",
    "              loc='upper right')\n",
    "\n",
    "data[['Φtot', 'q_HVAC']].plot(ax=axs[1],\n",
    "                              ylabel='Heat rate, $q$ / W')\n",
    "axs[1].set(xlabel='Time')\n",
    "axs[1].legend(['$Φ_{total}$', '$q_{HVAC}$'],\n",
    "             loc='upper right')\n",
    "plt.show()"
   ]
  },
  {
   "attachments": {},
   "cell_type": "markdown",
   "metadata": {},
   "source": [
    "> Figure 5. Simulation in free-running with weather data using Euler explicit method of integration. a) Indoor and outdoor temperatures. b) Solar and HVAC heat flow rates."
   ]
  },
  {
   "cell_type": "code",
   "execution_count": 55,
   "metadata": {},
   "outputs": [
    {
     "data": {
      "image/png": "[encoded data removed]",
      "text/plain": [
       "<Figure size 640x480 with 2 Axes>"
      ]
     },
     "metadata": {},
     "output_type": "display_data"
    }
   ],
   "source": [
    "t = dt * np.arange(data.shape[0])   # time vector\n",
    "\n",
    "fig, axs = plt.subplots(2, 1)\n",
    "# plot outdoor and indoor temperature\n",
    "axs[0].plot(t / 3600 / 24, data['To'], label='$θ_{outdoor}$')\n",
    "axs[0].plot(t / 3600 / 24, y_exp[0, :], label='$θ_{indoor}$')\n",
    "axs[0].set(ylabel='Temperatures, $θ$ / °C',\n",
    "           title='Simulation for weather')\n",
    "axs[0].legend(loc='upper right')\n",
    "\n",
    "# plot total solar radiation and HVAC heat flow\n",
    "axs[1].plot(t / 3600 / 24, data['Φtot'], label='$Φ_{total}$')\n",
    "axs[1].plot(t / 3600 / 24, q_HVAC, label='$q_{HVAC}$')\n",
    "axs[1].set(xlabel='Time, $t$ / day',\n",
    "           ylabel='Heat flows, $q$ / W')\n",
    "axs[1].legend(loc='upper right')\n",
    "\n",
    "fig.tight_layout()"
   ]
  },
  {
   "attachments": {},
   "cell_type": "markdown",
   "metadata": {},
   "source": [
    "> Figure 6. Simulation in free-running with weather data using Euler explicit method of integration. a) Indoor and outdoor temperatures. b) Solar and HVAC heat flow rates."
   ]
  },
  {
   "attachments": {},
   "cell_type": "markdown",
   "metadata": {},
   "source": [
    "## Conclusion"
   ]
  },
  {
   "attachments": {},
   "cell_type": "markdown",
   "metadata": {},
   "source": [
    "During this project, we learned to simulate the thermodynamics of a house we designed. This model is based on choices we made. The model  could be improved by taking into account the air flowing between the rooms throught the door, or add a ventilation and a window in every room. However, with the choices made, we still have a valid model with coherent temperatures evolutions. "
   ]
  }
 ],
 "metadata": {
  "kernelspec": {
   "display_name": "Python 3",
   "language": "python",
   "name": "python3"
  },
  "language_info": {
   "codemirror_mode": {
    "name": "ipython",
    "version": 3
   },
   "file_extension": ".py",
   "mimetype": "text/x-python",
   "name": "python",
   "nbconvert_exporter": "python",
   "pygments_lexer": "ipython3",
   "version": "3.11.3"
  },
  "orig_nbformat": 4
 },
 "nbformat": 4,
 "nbformat_minor": 2
}
